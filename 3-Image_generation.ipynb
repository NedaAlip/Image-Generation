{
  "nbformat": 4,
  "nbformat_minor": 0,
  "metadata": {
    "colab": {
      "provenance": [],
      "gpuType": "T4"
    },
    "kernelspec": {
      "name": "python3",
      "display_name": "Python 3"
    },
    "language_info": {
      "name": "python"
    },
    "accelerator": "GPU"
  },
  "cells": [
    {
      "cell_type": "code",
      "execution_count": null,
      "metadata": {
        "id": "UJfxRLv1jxD-"
      },
      "outputs": [],
      "source": [
        "# jupyter notebook --NotebookApp.allow_origin='https://colab.research.google.com' --port=4000 --NotebookApp.port_retries=0"
      ]
    },
    {
      "cell_type": "code",
      "source": [
        "!pip install -q torchmetrics\n",
        "\n",
        "#a linux command: it's used for machine learning matrics in pytorch (-q: means quite)"
      ],
      "metadata": {
        "id": "MO5JZMSoj3Xk"
      },
      "execution_count": null,
      "outputs": []
    },
    {
      "cell_type": "code",
      "source": [
        "!pip install -q portalocker>=2.0.0"
      ],
      "metadata": {
        "id": "1naQCdiJj5qL"
      },
      "execution_count": null,
      "outputs": []
    },
    {
      "cell_type": "code",
      "source": [
        "!pip install wandb"
      ],
      "metadata": {
        "id": "tgeIA-1Hj7b2",
        "colab": {
          "base_uri": "https://localhost:8080/"
        },
        "outputId": "a54b540a-bfb6-4edf-985a-e1f006e5c5b5"
      },
      "execution_count": null,
      "outputs": [
        {
          "output_type": "stream",
          "name": "stdout",
          "text": [
            "Requirement already satisfied: wandb in /usr/local/lib/python3.12/dist-packages (0.21.1)\n",
            "Requirement already satisfied: click!=8.0.0,>=7.1 in /usr/local/lib/python3.12/dist-packages (from wandb) (8.2.1)\n",
            "Requirement already satisfied: gitpython!=3.1.29,>=1.0.0 in /usr/local/lib/python3.12/dist-packages (from wandb) (3.1.45)\n",
            "Requirement already satisfied: packaging in /usr/local/lib/python3.12/dist-packages (from wandb) (25.0)\n",
            "Requirement already satisfied: platformdirs in /usr/local/lib/python3.12/dist-packages (from wandb) (4.3.8)\n",
            "Requirement already satisfied: protobuf!=4.21.0,!=5.28.0,<7,>=3.19.0 in /usr/local/lib/python3.12/dist-packages (from wandb) (5.29.5)\n",
            "Requirement already satisfied: pydantic<3 in /usr/local/lib/python3.12/dist-packages (from wandb) (2.11.7)\n",
            "Requirement already satisfied: pyyaml in /usr/local/lib/python3.12/dist-packages (from wandb) (6.0.2)\n",
            "Requirement already satisfied: requests<3,>=2.0.0 in /usr/local/lib/python3.12/dist-packages (from wandb) (2.32.4)\n",
            "Requirement already satisfied: sentry-sdk>=2.0.0 in /usr/local/lib/python3.12/dist-packages (from wandb) (2.35.0)\n",
            "Requirement already satisfied: typing-extensions<5,>=4.8 in /usr/local/lib/python3.12/dist-packages (from wandb) (4.14.1)\n",
            "Requirement already satisfied: gitdb<5,>=4.0.1 in /usr/local/lib/python3.12/dist-packages (from gitpython!=3.1.29,>=1.0.0->wandb) (4.0.12)\n",
            "Requirement already satisfied: annotated-types>=0.6.0 in /usr/local/lib/python3.12/dist-packages (from pydantic<3->wandb) (0.7.0)\n",
            "Requirement already satisfied: pydantic-core==2.33.2 in /usr/local/lib/python3.12/dist-packages (from pydantic<3->wandb) (2.33.2)\n",
            "Requirement already satisfied: typing-inspection>=0.4.0 in /usr/local/lib/python3.12/dist-packages (from pydantic<3->wandb) (0.4.1)\n",
            "Requirement already satisfied: charset_normalizer<4,>=2 in /usr/local/lib/python3.12/dist-packages (from requests<3,>=2.0.0->wandb) (3.4.3)\n",
            "Requirement already satisfied: idna<4,>=2.5 in /usr/local/lib/python3.12/dist-packages (from requests<3,>=2.0.0->wandb) (3.10)\n",
            "Requirement already satisfied: urllib3<3,>=1.21.1 in /usr/local/lib/python3.12/dist-packages (from requests<3,>=2.0.0->wandb) (2.5.0)\n",
            "Requirement already satisfied: certifi>=2017.4.17 in /usr/local/lib/python3.12/dist-packages (from requests<3,>=2.0.0->wandb) (2025.8.3)\n",
            "Requirement already satisfied: smmap<6,>=3.0.1 in /usr/local/lib/python3.12/dist-packages (from gitdb<5,>=4.0.1->gitpython!=3.1.29,>=1.0.0->wandb) (5.0.2)\n"
          ]
        }
      ]
    },
    {
      "cell_type": "code",
      "source": [
        "# !pip install torchtext==0.17\n"
      ],
      "metadata": {
        "colab": {
          "base_uri": "https://localhost:8080/"
        },
        "collapsed": true,
        "id": "9SkquZZLUYoG",
        "outputId": "e3be2525-b427-4483-fd35-6b9a6ef98572"
      },
      "execution_count": null,
      "outputs": [
        {
          "output_type": "stream",
          "name": "stdout",
          "text": [
            "\u001b[31mERROR: Could not find a version that satisfies the requirement torchtext==0.17 (from versions: 0.1.1, 0.2.0, 0.2.1, 0.2.3, 0.3.1, 0.4.0, 0.5.0, 0.6.0, 0.16.2, 0.17.2, 0.18.0)\u001b[0m\u001b[31m\n",
            "\u001b[0m\u001b[31mERROR: No matching distribution found for torchtext==0.17\u001b[0m\u001b[31m\n",
            "\u001b[0m"
          ]
        }
      ]
    },
    {
      "cell_type": "code",
      "source": [
        "import os              #opening files and folders\n",
        "from glob import glob  #its for finding list of files\n",
        "import random          #for generating random numbers\n",
        "from pathlib import Path\n",
        "from typing import Any, Callable, Dict, List, Optional, Tuple\n",
        "from pathlib import Path\n",
        "\n",
        "import numpy as np\n",
        "import matplotlib.pyplot as plt\n",
        "import pandas as pd\n",
        "\n",
        "import PIL\n",
        "from PIL import Image\n",
        "import cv2\n",
        "\n",
        "import torch\n",
        "from torch.utils.data import DataLoader, Dataset, random_split\n",
        "from torch import optim\n",
        "from torch import nn\n",
        "from torch.nn import functional as F\n",
        "\n",
        "import torchvision\n",
        "from torchvision import io\n",
        "from torchvision.transforms import v2\n",
        "import torchvision.transforms.functional as F\n",
        "from torchvision.datasets import VisionDataset\n",
        "from torchvision import tv_tensors\n",
        "from torchvision.utils import make_grid\n",
        "\n",
        "# import torchtext\n",
        "# from torchtext.vocab import build_vocab_from_iterator\n",
        "\n",
        "import tqdm\n",
        "import torchmetrics as tm\n",
        "from torchmetrics import MeanMetric"
      ],
      "metadata": {
        "id": "ns365hUIj_NA",
        "collapsed": true
      },
      "execution_count": null,
      "outputs": []
    },
    {
      "cell_type": "markdown",
      "source": [
        "#Utils"
      ],
      "metadata": {
        "id": "7SrEyQWzkFd7"
      }
    },
    {
      "cell_type": "code",
      "source": [
        "#calculate the number of trainable parameters of a model\n",
        "def num_trainable_params(model):\n",
        "  nums = sum(p.numel() for p in model.parameters() if p.requires_grad)/1e6\n",
        "  return nums"
      ],
      "metadata": {
        "id": "gIctYK5VkHo3"
      },
      "execution_count": null,
      "outputs": []
    },
    {
      "cell_type": "code",
      "source": [
        "def set_seed(seed):\n",
        "  np.random.seed(seed)\n",
        "  torch.manual_seed(seed)\n",
        "  if torch.cuda.is_available():\n",
        "      torch.cuda.manual_seed(seed)\n",
        "      # torch.cuda.manual_seed_all(seed)\n",
        "\n",
        "      # torch.backends.cudnn.deterministic = True\n",
        "      # torch.backends.cudnn.benchmark = False\n"
      ],
      "metadata": {
        "id": "5qcTv8rWkKSw"
      },
      "execution_count": null,
      "outputs": []
    },
    {
      "cell_type": "code",
      "source": [
        "#measure the time used for training the model on the dataset\n",
        "\n",
        "def time_for_each_batch(loader):\n",
        "  start = time.time()            #get the start time\n",
        "  for iter, (img, mask) in enumerate(loader, 1):  #getting the batches (img and mask are inputs)\n",
        "    continue\n",
        "  end = time.time()              # get the end time\n",
        "  total_time = end - start       #calculate the whole time\n",
        "  return total_time, total_time/len(loader)   # the time calculated for each batch"
      ],
      "metadata": {
        "id": "QLrHGiPLkMcg"
      },
      "execution_count": null,
      "outputs": []
    },
    {
      "cell_type": "markdown",
      "source": [
        "dataset"
      ],
      "metadata": {
        "id": "dFTER1EWVI1d"
      }
    },
    {
      "cell_type": "code",
      "source": [
        "# from google.colab import files\n",
        "# uploaded = files.upload()"
      ],
      "metadata": {
        "id": "PVioNoJz7TJW",
        "colab": {
          "base_uri": "https://localhost:8080/",
          "height": 38
        },
        "outputId": "37cb304a-c0f1-4a26-83bf-993bda39af2f"
      },
      "execution_count": null,
      "outputs": [
        {
          "output_type": "display_data",
          "data": {
            "text/plain": [
              "<IPython.core.display.HTML object>"
            ],
            "text/html": [
              "\n",
              "     <input type=\"file\" id=\"files-671d54db-9453-4379-80fe-eebee35a9eb5\" name=\"files[]\" multiple disabled\n",
              "        style=\"border:none\" />\n",
              "     <output id=\"result-671d54db-9453-4379-80fe-eebee35a9eb5\">\n",
              "      Upload widget is only available when the cell has been executed in the\n",
              "      current browser session. Please rerun this cell to enable.\n",
              "      </output>\n",
              "      <script>// Copyright 2017 Google LLC\n",
              "//\n",
              "// Licensed under the Apache License, Version 2.0 (the \"License\");\n",
              "// you may not use this file except in compliance with the License.\n",
              "// You may obtain a copy of the License at\n",
              "//\n",
              "//      http://www.apache.org/licenses/LICENSE-2.0\n",
              "//\n",
              "// Unless required by applicable law or agreed to in writing, software\n",
              "// distributed under the License is distributed on an \"AS IS\" BASIS,\n",
              "// WITHOUT WARRANTIES OR CONDITIONS OF ANY KIND, either express or implied.\n",
              "// See the License for the specific language governing permissions and\n",
              "// limitations under the License.\n",
              "\n",
              "/**\n",
              " * @fileoverview Helpers for google.colab Python module.\n",
              " */\n",
              "(function(scope) {\n",
              "function span(text, styleAttributes = {}) {\n",
              "  const element = document.createElement('span');\n",
              "  element.textContent = text;\n",
              "  for (const key of Object.keys(styleAttributes)) {\n",
              "    element.style[key] = styleAttributes[key];\n",
              "  }\n",
              "  return element;\n",
              "}\n",
              "\n",
              "// Max number of bytes which will be uploaded at a time.\n",
              "const MAX_PAYLOAD_SIZE = 100 * 1024;\n",
              "\n",
              "function _uploadFiles(inputId, outputId) {\n",
              "  const steps = uploadFilesStep(inputId, outputId);\n",
              "  const outputElement = document.getElementById(outputId);\n",
              "  // Cache steps on the outputElement to make it available for the next call\n",
              "  // to uploadFilesContinue from Python.\n",
              "  outputElement.steps = steps;\n",
              "\n",
              "  return _uploadFilesContinue(outputId);\n",
              "}\n",
              "\n",
              "// This is roughly an async generator (not supported in the browser yet),\n",
              "// where there are multiple asynchronous steps and the Python side is going\n",
              "// to poll for completion of each step.\n",
              "// This uses a Promise to block the python side on completion of each step,\n",
              "// then passes the result of the previous step as the input to the next step.\n",
              "function _uploadFilesContinue(outputId) {\n",
              "  const outputElement = document.getElementById(outputId);\n",
              "  const steps = outputElement.steps;\n",
              "\n",
              "  const next = steps.next(outputElement.lastPromiseValue);\n",
              "  return Promise.resolve(next.value.promise).then((value) => {\n",
              "    // Cache the last promise value to make it available to the next\n",
              "    // step of the generator.\n",
              "    outputElement.lastPromiseValue = value;\n",
              "    return next.value.response;\n",
              "  });\n",
              "}\n",
              "\n",
              "/**\n",
              " * Generator function which is called between each async step of the upload\n",
              " * process.\n",
              " * @param {string} inputId Element ID of the input file picker element.\n",
              " * @param {string} outputId Element ID of the output display.\n",
              " * @return {!Iterable<!Object>} Iterable of next steps.\n",
              " */\n",
              "function* uploadFilesStep(inputId, outputId) {\n",
              "  const inputElement = document.getElementById(inputId);\n",
              "  inputElement.disabled = false;\n",
              "\n",
              "  const outputElement = document.getElementById(outputId);\n",
              "  outputElement.innerHTML = '';\n",
              "\n",
              "  const pickedPromise = new Promise((resolve) => {\n",
              "    inputElement.addEventListener('change', (e) => {\n",
              "      resolve(e.target.files);\n",
              "    });\n",
              "  });\n",
              "\n",
              "  const cancel = document.createElement('button');\n",
              "  inputElement.parentElement.appendChild(cancel);\n",
              "  cancel.textContent = 'Cancel upload';\n",
              "  const cancelPromise = new Promise((resolve) => {\n",
              "    cancel.onclick = () => {\n",
              "      resolve(null);\n",
              "    };\n",
              "  });\n",
              "\n",
              "  // Wait for the user to pick the files.\n",
              "  const files = yield {\n",
              "    promise: Promise.race([pickedPromise, cancelPromise]),\n",
              "    response: {\n",
              "      action: 'starting',\n",
              "    }\n",
              "  };\n",
              "\n",
              "  cancel.remove();\n",
              "\n",
              "  // Disable the input element since further picks are not allowed.\n",
              "  inputElement.disabled = true;\n",
              "\n",
              "  if (!files) {\n",
              "    return {\n",
              "      response: {\n",
              "        action: 'complete',\n",
              "      }\n",
              "    };\n",
              "  }\n",
              "\n",
              "  for (const file of files) {\n",
              "    const li = document.createElement('li');\n",
              "    li.append(span(file.name, {fontWeight: 'bold'}));\n",
              "    li.append(span(\n",
              "        `(${file.type || 'n/a'}) - ${file.size} bytes, ` +\n",
              "        `last modified: ${\n",
              "            file.lastModifiedDate ? file.lastModifiedDate.toLocaleDateString() :\n",
              "                                    'n/a'} - `));\n",
              "    const percent = span('0% done');\n",
              "    li.appendChild(percent);\n",
              "\n",
              "    outputElement.appendChild(li);\n",
              "\n",
              "    const fileDataPromise = new Promise((resolve) => {\n",
              "      const reader = new FileReader();\n",
              "      reader.onload = (e) => {\n",
              "        resolve(e.target.result);\n",
              "      };\n",
              "      reader.readAsArrayBuffer(file);\n",
              "    });\n",
              "    // Wait for the data to be ready.\n",
              "    let fileData = yield {\n",
              "      promise: fileDataPromise,\n",
              "      response: {\n",
              "        action: 'continue',\n",
              "      }\n",
              "    };\n",
              "\n",
              "    // Use a chunked sending to avoid message size limits. See b/62115660.\n",
              "    let position = 0;\n",
              "    do {\n",
              "      const length = Math.min(fileData.byteLength - position, MAX_PAYLOAD_SIZE);\n",
              "      const chunk = new Uint8Array(fileData, position, length);\n",
              "      position += length;\n",
              "\n",
              "      const base64 = btoa(String.fromCharCode.apply(null, chunk));\n",
              "      yield {\n",
              "        response: {\n",
              "          action: 'append',\n",
              "          file: file.name,\n",
              "          data: base64,\n",
              "        },\n",
              "      };\n",
              "\n",
              "      let percentDone = fileData.byteLength === 0 ?\n",
              "          100 :\n",
              "          Math.round((position / fileData.byteLength) * 100);\n",
              "      percent.textContent = `${percentDone}% done`;\n",
              "\n",
              "    } while (position < fileData.byteLength);\n",
              "  }\n",
              "\n",
              "  // All done.\n",
              "  yield {\n",
              "    response: {\n",
              "      action: 'complete',\n",
              "    }\n",
              "  };\n",
              "}\n",
              "\n",
              "scope.google = scope.google || {};\n",
              "scope.google.colab = scope.google.colab || {};\n",
              "scope.google.colab._files = {\n",
              "  _uploadFiles,\n",
              "  _uploadFilesContinue,\n",
              "};\n",
              "})(self);\n",
              "</script> "
            ]
          },
          "metadata": {}
        }
      ]
    },
    {
      "cell_type": "code",
      "source": [
        "from google.colab import drive\n",
        "drive.mount('/content/drive')\n"
      ],
      "metadata": {
        "colab": {
          "base_uri": "https://localhost:8080/"
        },
        "id": "6OP58qtiVWQS",
        "outputId": "beea0950-05a1-4e92-a83a-702e1dea28b7"
      },
      "execution_count": null,
      "outputs": [
        {
          "output_type": "stream",
          "name": "stdout",
          "text": [
            "Drive already mounted at /content/drive; to attempt to forcibly remount, call drive.mount(\"/content/drive\", force_remount=True).\n"
          ]
        }
      ]
    },
    {
      "cell_type": "markdown",
      "source": [
        "#Arguments"
      ],
      "metadata": {
        "id": "P46_2cj9kOUM"
      }
    },
    {
      "cell_type": "code",
      "source": [
        "seed = 8                # for unique results\n",
        "wandb_enable = False    # it's a tool for monitoring the training\n",
        "device = 'cuda' if torch.cuda.is_available() else 'cpu'\n",
        "\n",
        "root = Path('/content/drive/MyDrive/processed/train')\n",
        "\n",
        "batch_size = 10    # model everytime is trained on 10 samples"
      ],
      "metadata": {
        "id": "QJ8nLL_7kP6w"
      },
      "execution_count": null,
      "outputs": []
    },
    {
      "cell_type": "code",
      "source": [
        "#if monitoring is active, it asks a name for saving.\n",
        "\n",
        "if wandb_enable:\n",
        "  wandb_arg_name = input('Please input the WandB argument (run) name:')\n",
        "  print(wandb_arg_name)"
      ],
      "metadata": {
        "id": "GkeOmf9okTSe"
      },
      "execution_count": null,
      "outputs": []
    },
    {
      "cell_type": "markdown",
      "source": [
        "#dataset"
      ],
      "metadata": {
        "id": "u_PrG77bkW9E"
      }
    },
    {
      "cell_type": "code",
      "source": [
        "df = pd.read_csv( '/content/drive/MyDrive/processed/train/metadata.csv')\n",
        "display(df.head())\n",
        "df.shape"
      ],
      "metadata": {
        "id": "GiSoGvvh33rG",
        "colab": {
          "base_uri": "https://localhost:8080/",
          "height": 223
        },
        "outputId": "f01de5a8-ee25-406e-fcc9-7ae0ca291974"
      },
      "execution_count": null,
      "outputs": [
        {
          "output_type": "display_data",
          "data": {
            "text/plain": [
              "      input    target  hair   shirt\n",
              "0  0001.bmp  0001.bmp  blue    blue\n",
              "1  0001.bmp  0002.bmp  blue   brown\n",
              "2  0001.bmp  0003.bmp  blue     red\n",
              "3  0001.bmp  0004.bmp  blue  yellow\n",
              "4  0001.bmp  0005.bmp  blue   green"
            ],
            "text/html": [
              "\n",
              "  <div id=\"df-473a6893-6844-449f-b3b2-5a5f43f7f09a\" class=\"colab-df-container\">\n",
              "    <div>\n",
              "<style scoped>\n",
              "    .dataframe tbody tr th:only-of-type {\n",
              "        vertical-align: middle;\n",
              "    }\n",
              "\n",
              "    .dataframe tbody tr th {\n",
              "        vertical-align: top;\n",
              "    }\n",
              "\n",
              "    .dataframe thead th {\n",
              "        text-align: right;\n",
              "    }\n",
              "</style>\n",
              "<table border=\"1\" class=\"dataframe\">\n",
              "  <thead>\n",
              "    <tr style=\"text-align: right;\">\n",
              "      <th></th>\n",
              "      <th>input</th>\n",
              "      <th>target</th>\n",
              "      <th>hair</th>\n",
              "      <th>shirt</th>\n",
              "    </tr>\n",
              "  </thead>\n",
              "  <tbody>\n",
              "    <tr>\n",
              "      <th>0</th>\n",
              "      <td>0001.bmp</td>\n",
              "      <td>0001.bmp</td>\n",
              "      <td>blue</td>\n",
              "      <td>blue</td>\n",
              "    </tr>\n",
              "    <tr>\n",
              "      <th>1</th>\n",
              "      <td>0001.bmp</td>\n",
              "      <td>0002.bmp</td>\n",
              "      <td>blue</td>\n",
              "      <td>brown</td>\n",
              "    </tr>\n",
              "    <tr>\n",
              "      <th>2</th>\n",
              "      <td>0001.bmp</td>\n",
              "      <td>0003.bmp</td>\n",
              "      <td>blue</td>\n",
              "      <td>red</td>\n",
              "    </tr>\n",
              "    <tr>\n",
              "      <th>3</th>\n",
              "      <td>0001.bmp</td>\n",
              "      <td>0004.bmp</td>\n",
              "      <td>blue</td>\n",
              "      <td>yellow</td>\n",
              "    </tr>\n",
              "    <tr>\n",
              "      <th>4</th>\n",
              "      <td>0001.bmp</td>\n",
              "      <td>0005.bmp</td>\n",
              "      <td>blue</td>\n",
              "      <td>green</td>\n",
              "    </tr>\n",
              "  </tbody>\n",
              "</table>\n",
              "</div>\n",
              "    <div class=\"colab-df-buttons\">\n",
              "\n",
              "  <div class=\"colab-df-container\">\n",
              "    <button class=\"colab-df-convert\" onclick=\"convertToInteractive('df-473a6893-6844-449f-b3b2-5a5f43f7f09a')\"\n",
              "            title=\"Convert this dataframe to an interactive table.\"\n",
              "            style=\"display:none;\">\n",
              "\n",
              "  <svg xmlns=\"http://www.w3.org/2000/svg\" height=\"24px\" viewBox=\"0 -960 960 960\">\n",
              "    <path d=\"M120-120v-720h720v720H120Zm60-500h600v-160H180v160Zm220 220h160v-160H400v160Zm0 220h160v-160H400v160ZM180-400h160v-160H180v160Zm440 0h160v-160H620v160ZM180-180h160v-160H180v160Zm440 0h160v-160H620v160Z\"/>\n",
              "  </svg>\n",
              "    </button>\n",
              "\n",
              "  <style>\n",
              "    .colab-df-container {\n",
              "      display:flex;\n",
              "      gap: 12px;\n",
              "    }\n",
              "\n",
              "    .colab-df-convert {\n",
              "      background-color: #E8F0FE;\n",
              "      border: none;\n",
              "      border-radius: 50%;\n",
              "      cursor: pointer;\n",
              "      display: none;\n",
              "      fill: #1967D2;\n",
              "      height: 32px;\n",
              "      padding: 0 0 0 0;\n",
              "      width: 32px;\n",
              "    }\n",
              "\n",
              "    .colab-df-convert:hover {\n",
              "      background-color: #E2EBFA;\n",
              "      box-shadow: 0px 1px 2px rgba(60, 64, 67, 0.3), 0px 1px 3px 1px rgba(60, 64, 67, 0.15);\n",
              "      fill: #174EA6;\n",
              "    }\n",
              "\n",
              "    .colab-df-buttons div {\n",
              "      margin-bottom: 4px;\n",
              "    }\n",
              "\n",
              "    [theme=dark] .colab-df-convert {\n",
              "      background-color: #3B4455;\n",
              "      fill: #D2E3FC;\n",
              "    }\n",
              "\n",
              "    [theme=dark] .colab-df-convert:hover {\n",
              "      background-color: #434B5C;\n",
              "      box-shadow: 0px 1px 3px 1px rgba(0, 0, 0, 0.15);\n",
              "      filter: drop-shadow(0px 1px 2px rgba(0, 0, 0, 0.3));\n",
              "      fill: #FFFFFF;\n",
              "    }\n",
              "  </style>\n",
              "\n",
              "    <script>\n",
              "      const buttonEl =\n",
              "        document.querySelector('#df-473a6893-6844-449f-b3b2-5a5f43f7f09a button.colab-df-convert');\n",
              "      buttonEl.style.display =\n",
              "        google.colab.kernel.accessAllowed ? 'block' : 'none';\n",
              "\n",
              "      async function convertToInteractive(key) {\n",
              "        const element = document.querySelector('#df-473a6893-6844-449f-b3b2-5a5f43f7f09a');\n",
              "        const dataTable =\n",
              "          await google.colab.kernel.invokeFunction('convertToInteractive',\n",
              "                                                    [key], {});\n",
              "        if (!dataTable) return;\n",
              "\n",
              "        const docLinkHtml = 'Like what you see? Visit the ' +\n",
              "          '<a target=\"_blank\" href=https://colab.research.google.com/notebooks/data_table.ipynb>data table notebook</a>'\n",
              "          + ' to learn more about interactive tables.';\n",
              "        element.innerHTML = '';\n",
              "        dataTable['output_type'] = 'display_data';\n",
              "        await google.colab.output.renderOutput(dataTable, element);\n",
              "        const docLink = document.createElement('div');\n",
              "        docLink.innerHTML = docLinkHtml;\n",
              "        element.appendChild(docLink);\n",
              "      }\n",
              "    </script>\n",
              "  </div>\n",
              "\n",
              "\n",
              "    <div id=\"df-84b5c5cf-d264-4437-8603-de1bb8b73ea7\">\n",
              "      <button class=\"colab-df-quickchart\" onclick=\"quickchart('df-84b5c5cf-d264-4437-8603-de1bb8b73ea7')\"\n",
              "                title=\"Suggest charts\"\n",
              "                style=\"display:none;\">\n",
              "\n",
              "<svg xmlns=\"http://www.w3.org/2000/svg\" height=\"24px\"viewBox=\"0 0 24 24\"\n",
              "     width=\"24px\">\n",
              "    <g>\n",
              "        <path d=\"M19 3H5c-1.1 0-2 .9-2 2v14c0 1.1.9 2 2 2h14c1.1 0 2-.9 2-2V5c0-1.1-.9-2-2-2zM9 17H7v-7h2v7zm4 0h-2V7h2v10zm4 0h-2v-4h2v4z\"/>\n",
              "    </g>\n",
              "</svg>\n",
              "      </button>\n",
              "\n",
              "<style>\n",
              "  .colab-df-quickchart {\n",
              "      --bg-color: #E8F0FE;\n",
              "      --fill-color: #1967D2;\n",
              "      --hover-bg-color: #E2EBFA;\n",
              "      --hover-fill-color: #174EA6;\n",
              "      --disabled-fill-color: #AAA;\n",
              "      --disabled-bg-color: #DDD;\n",
              "  }\n",
              "\n",
              "  [theme=dark] .colab-df-quickchart {\n",
              "      --bg-color: #3B4455;\n",
              "      --fill-color: #D2E3FC;\n",
              "      --hover-bg-color: #434B5C;\n",
              "      --hover-fill-color: #FFFFFF;\n",
              "      --disabled-bg-color: #3B4455;\n",
              "      --disabled-fill-color: #666;\n",
              "  }\n",
              "\n",
              "  .colab-df-quickchart {\n",
              "    background-color: var(--bg-color);\n",
              "    border: none;\n",
              "    border-radius: 50%;\n",
              "    cursor: pointer;\n",
              "    display: none;\n",
              "    fill: var(--fill-color);\n",
              "    height: 32px;\n",
              "    padding: 0;\n",
              "    width: 32px;\n",
              "  }\n",
              "\n",
              "  .colab-df-quickchart:hover {\n",
              "    background-color: var(--hover-bg-color);\n",
              "    box-shadow: 0 1px 2px rgba(60, 64, 67, 0.3), 0 1px 3px 1px rgba(60, 64, 67, 0.15);\n",
              "    fill: var(--button-hover-fill-color);\n",
              "  }\n",
              "\n",
              "  .colab-df-quickchart-complete:disabled,\n",
              "  .colab-df-quickchart-complete:disabled:hover {\n",
              "    background-color: var(--disabled-bg-color);\n",
              "    fill: var(--disabled-fill-color);\n",
              "    box-shadow: none;\n",
              "  }\n",
              "\n",
              "  .colab-df-spinner {\n",
              "    border: 2px solid var(--fill-color);\n",
              "    border-color: transparent;\n",
              "    border-bottom-color: var(--fill-color);\n",
              "    animation:\n",
              "      spin 1s steps(1) infinite;\n",
              "  }\n",
              "\n",
              "  @keyframes spin {\n",
              "    0% {\n",
              "      border-color: transparent;\n",
              "      border-bottom-color: var(--fill-color);\n",
              "      border-left-color: var(--fill-color);\n",
              "    }\n",
              "    20% {\n",
              "      border-color: transparent;\n",
              "      border-left-color: var(--fill-color);\n",
              "      border-top-color: var(--fill-color);\n",
              "    }\n",
              "    30% {\n",
              "      border-color: transparent;\n",
              "      border-left-color: var(--fill-color);\n",
              "      border-top-color: var(--fill-color);\n",
              "      border-right-color: var(--fill-color);\n",
              "    }\n",
              "    40% {\n",
              "      border-color: transparent;\n",
              "      border-right-color: var(--fill-color);\n",
              "      border-top-color: var(--fill-color);\n",
              "    }\n",
              "    60% {\n",
              "      border-color: transparent;\n",
              "      border-right-color: var(--fill-color);\n",
              "    }\n",
              "    80% {\n",
              "      border-color: transparent;\n",
              "      border-right-color: var(--fill-color);\n",
              "      border-bottom-color: var(--fill-color);\n",
              "    }\n",
              "    90% {\n",
              "      border-color: transparent;\n",
              "      border-bottom-color: var(--fill-color);\n",
              "    }\n",
              "  }\n",
              "</style>\n",
              "\n",
              "      <script>\n",
              "        async function quickchart(key) {\n",
              "          const quickchartButtonEl =\n",
              "            document.querySelector('#' + key + ' button');\n",
              "          quickchartButtonEl.disabled = true;  // To prevent multiple clicks.\n",
              "          quickchartButtonEl.classList.add('colab-df-spinner');\n",
              "          try {\n",
              "            const charts = await google.colab.kernel.invokeFunction(\n",
              "                'suggestCharts', [key], {});\n",
              "          } catch (error) {\n",
              "            console.error('Error during call to suggestCharts:', error);\n",
              "          }\n",
              "          quickchartButtonEl.classList.remove('colab-df-spinner');\n",
              "          quickchartButtonEl.classList.add('colab-df-quickchart-complete');\n",
              "        }\n",
              "        (() => {\n",
              "          let quickchartButtonEl =\n",
              "            document.querySelector('#df-84b5c5cf-d264-4437-8603-de1bb8b73ea7 button');\n",
              "          quickchartButtonEl.style.display =\n",
              "            google.colab.kernel.accessAllowed ? 'block' : 'none';\n",
              "        })();\n",
              "      </script>\n",
              "    </div>\n",
              "\n",
              "    </div>\n",
              "  </div>\n"
            ],
            "application/vnd.google.colaboratory.intrinsic+json": {
              "type": "dataframe",
              "summary": "{\n  \"name\": \"df\",\n  \"rows\": 5,\n  \"fields\": [\n    {\n      \"column\": \"input\",\n      \"properties\": {\n        \"dtype\": \"category\",\n        \"num_unique_values\": 1,\n        \"samples\": [\n          \"0001.bmp\"\n        ],\n        \"semantic_type\": \"\",\n        \"description\": \"\"\n      }\n    },\n    {\n      \"column\": \"target\",\n      \"properties\": {\n        \"dtype\": \"string\",\n        \"num_unique_values\": 5,\n        \"samples\": [\n          \"0002.bmp\"\n        ],\n        \"semantic_type\": \"\",\n        \"description\": \"\"\n      }\n    },\n    {\n      \"column\": \"hair\",\n      \"properties\": {\n        \"dtype\": \"category\",\n        \"num_unique_values\": 1,\n        \"samples\": [\n          \"blue\"\n        ],\n        \"semantic_type\": \"\",\n        \"description\": \"\"\n      }\n    },\n    {\n      \"column\": \"shirt\",\n      \"properties\": {\n        \"dtype\": \"string\",\n        \"num_unique_values\": 5,\n        \"samples\": [\n          \"brown\"\n        ],\n        \"semantic_type\": \"\",\n        \"description\": \"\"\n      }\n    }\n  ]\n}"
            }
          },
          "metadata": {}
        },
        {
          "output_type": "execute_result",
          "data": {
            "text/plain": [
              "(250, 4)"
            ]
          },
          "metadata": {},
          "execution_count": 12
        }
      ]
    },
    {
      "cell_type": "markdown",
      "source": [
        "choosing a random sample"
      ],
      "metadata": {
        "id": "EjvgIzYrV58T"
      }
    },
    {
      "cell_type": "code",
      "source": [
        "#df.shape[0] --> the whole number of rows\n",
        "#iloc[idx] --> the number of row\n",
        "#totally it chooses a random sample from df\n",
        "\n",
        "idx = random.randint(0, df.shape[0])  #choosing a random row from dataframe (df)\n",
        "sample = df.iloc[idx]"
      ],
      "metadata": {
        "id": "VuFsRAnYV4Qn"
      },
      "execution_count": null,
      "outputs": []
    },
    {
      "cell_type": "markdown",
      "source": [
        "reading the image and target corresponding to the sample"
      ],
      "metadata": {
        "id": "Tl_omNfrV9uP"
      }
    },
    {
      "cell_type": "code",
      "source": [
        "from pathlib import Path\n",
        "import cv2, os\n",
        "\n",
        "root = Path('/content/drive/MyDrive/processed')\n",
        "\n",
        "# فرض: sample از df اومده\n",
        "inp_name = str(sample['input']).strip()\n",
        "tgt_name = str(sample['target']).strip()\n",
        "\n",
        "src_path = root / 'train' / 'inputs'  / inp_name\n",
        "tgt_path = root / 'train' / 'targets' / tgt_name\n",
        "\n",
        "print(\"SRC path:\", src_path)\n",
        "print(\"TGT path:\", tgt_path)\n",
        "print(\"exists?  \", src_path.exists(), tgt_path.exists())\n",
        "\n",
        "src = cv2.imread(str(src_path))  #\n",
        "tgt = cv2.imread(str(tgt_path))\n",
        "\n",
        "if src is None:\n",
        "    raise FileNotFoundError(f\"Could not read input image: {src_path}\")\n",
        "if tgt is None:\n",
        "    raise FileNotFoundError(f\"Could not read target image: {tgt_path}\")\n",
        "\n",
        "src = cv2.cvtColor(src, cv2.COLOR_BGR2RGB)\n",
        "tgt = cv2.cvtColor(tgt, cv2.COLOR_BGR2RGB)\n"
      ],
      "metadata": {
        "colab": {
          "base_uri": "https://localhost:8080/"
        },
        "id": "q0IyXaSMYhB8",
        "outputId": "32c5807e-0e98-4c25-bae1-4ac045f63951"
      },
      "execution_count": null,
      "outputs": [
        {
          "output_type": "stream",
          "name": "stdout",
          "text": [
            "SRC path: /content/drive/MyDrive/processed/train/inputs/0004.bmp\n",
            "TGT path: /content/drive/MyDrive/processed/train/targets/0091.bmp\n",
            "exists?   True True\n"
          ]
        }
      ]
    },
    {
      "cell_type": "code",
      "source": [
        "print(f\"Hair: {sample['hair']}, Shirt: {sample['shirt']}\")\n",
        "\n",
        "fig, axes = plt.subplots(1, 2)\n",
        "axes[0].imshow(src)\n",
        "axes[0].axis('off')\n",
        "axes[1].imshow(tgt)\n",
        "axes[1].axis('off');"
      ],
      "metadata": {
        "colab": {
          "base_uri": "https://localhost:8080/",
          "height": 279
        },
        "id": "xBuq2F63ZY7k",
        "outputId": "db2d666e-1470-4152-fab8-526e245b136e"
      },
      "execution_count": null,
      "outputs": [
        {
          "output_type": "stream",
          "name": "stdout",
          "text": [
            "Hair: yellow, Shirt: blue\n"
          ]
        },
        {
          "output_type": "display_data",
          "data": {
            "text/plain": [
              "<Figure size 640x480 with 2 Axes>"
            ],
            "image/png": "[encoded data removed]"
          },
          "metadata": {}
        }
      ]
    },
    {
      "cell_type": "markdown",
      "source": [
        "printing the color of hair and shirt in the image and target of that sample"
      ],
      "metadata": {
        "id": "-c23_uWyWIVg"
      }
    },
    {
      "cell_type": "code",
      "source": [
        "conditions = df['hair'].tolist()    #it takes the columns of hair from df and turns into list\n",
        "print(conditions)                   # for example result: ['black', 'blond', 'brown', 'red', 'black', ...]\n"
      ],
      "metadata": {
        "id": "ls0W9FrY39bc",
        "colab": {
          "base_uri": "https://localhost:8080/"
        },
        "outputId": "5bbd341c-0364-4a5f-980a-f80cbb54c96e"
      },
      "execution_count": null,
      "outputs": [
        {
          "output_type": "stream",
          "name": "stdout",
          "text": [
            "['blue', 'blue', 'blue', 'blue', 'blue', 'brown', 'brown', 'brown', 'brown', 'brown', 'red', 'red', 'red', 'red', 'red', 'yellow', 'yellow', 'yellow', 'yellow', 'yellow', 'green', 'green', 'green', 'green', 'green', 'blue', 'blue', 'blue', 'blue', 'blue', 'brown', 'brown', 'brown', 'brown', 'brown', 'red', 'red', 'red', 'red', 'red', 'yellow', 'yellow', 'yellow', 'yellow', 'yellow', 'green', 'green', 'green', 'green', 'green', 'blue', 'blue', 'blue', 'blue', 'blue', 'brown', 'brown', 'brown', 'brown', 'brown', 'red', 'red', 'red', 'red', 'red', 'yellow', 'yellow', 'yellow', 'yellow', 'yellow', 'green', 'green', 'green', 'green', 'green', 'blue', 'blue', 'blue', 'blue', 'blue', 'brown', 'brown', 'brown', 'brown', 'brown', 'red', 'red', 'red', 'red', 'red', 'yellow', 'yellow', 'yellow', 'yellow', 'yellow', 'green', 'green', 'green', 'green', 'green', 'blue', 'blue', 'blue', 'blue', 'blue', 'brown', 'brown', 'brown', 'brown', 'brown', 'red', 'red', 'red', 'red', 'red', 'yellow', 'yellow', 'yellow', 'yellow', 'yellow', 'green', 'green', 'green', 'green', 'green', 'blue', 'blue', 'blue', 'blue', 'blue', 'brown', 'brown', 'brown', 'brown', 'brown', 'red', 'red', 'red', 'red', 'red', 'yellow', 'yellow', 'yellow', 'yellow', 'yellow', 'green', 'green', 'green', 'green', 'green', 'blue', 'blue', 'blue', 'blue', 'blue', 'brown', 'brown', 'brown', 'brown', 'brown', 'red', 'red', 'red', 'red', 'red', 'yellow', 'yellow', 'yellow', 'yellow', 'yellow', 'green', 'green', 'green', 'green', 'green', 'blue', 'blue', 'blue', 'blue', 'blue', 'brown', 'brown', 'brown', 'brown', 'brown', 'red', 'red', 'red', 'red', 'red', 'yellow', 'yellow', 'yellow', 'yellow', 'yellow', 'green', 'green', 'green', 'green', 'green', 'blue', 'blue', 'blue', 'blue', 'blue', 'brown', 'brown', 'brown', 'brown', 'brown', 'red', 'red', 'red', 'red', 'red', 'yellow', 'yellow', 'yellow', 'yellow', 'yellow', 'green', 'green', 'green', 'green', 'green', 'blue', 'blue', 'blue', 'blue', 'blue', 'brown', 'brown', 'brown', 'brown', 'brown', 'red', 'red', 'red', 'red', 'red', 'yellow', 'yellow', 'yellow', 'yellow', 'yellow', 'green', 'green', 'green', 'green', 'green']\n"
          ]
        }
      ]
    },
    {
      "cell_type": "code",
      "source": [
        "unique_tokens = sorted(set(conditions))   # ['blue', 'green', 'red', 'yellow']\n",
        "\n",
        "# string → index\n",
        "stoi = {token: idx for idx, token in enumerate(unique_tokens)}\n",
        "\n",
        "# index → string\n",
        "itos = {idx: token for token, idx in stoi.items()}\n",
        "\n",
        "vocab = stoi\n",
        "\n",
        "print(\"stoi:\", stoi)\n",
        "print(\"itos:\", itos)\n",
        "\n",
        "# test\n",
        "sample = {\"hair\": \"green\", \"shirt\": \"red\"}\n",
        "\n",
        "embeds = torch.eye(len(vocab))\n",
        "hair_idx, shirt_idx = vocab[sample['hair']], vocab[sample['shirt']]\n",
        "\n",
        "print(\"Hair one-hot:\", embeds[hair_idx])\n",
        "print(\"Shirt one-hot:\", embeds[shirt_idx])\n"
      ],
      "metadata": {
        "colab": {
          "base_uri": "https://localhost:8080/"
        },
        "id": "TXD-enoWbmqL",
        "outputId": "57266d39-2840-47c4-a2d5-82c9f26d2d4c"
      },
      "execution_count": null,
      "outputs": [
        {
          "output_type": "stream",
          "name": "stdout",
          "text": [
            "stoi: {'blue': 0, 'brown': 1, 'green': 2, 'red': 3, 'yellow': 4}\n",
            "itos: {0: 'blue', 1: 'brown', 2: 'green', 3: 'red', 4: 'yellow'}\n",
            "Hair one-hot: tensor([0., 0., 1., 0., 0.])\n",
            "Shirt one-hot: tensor([0., 0., 0., 1., 0.])\n"
          ]
        }
      ]
    },
    {
      "cell_type": "code",
      "source": [
        "embeds = torch.eye(len(vocab))   #\n",
        "hair_idx, shirt_idx = vocab[sample['hair']], vocab[sample['shirt']]   #\n",
        "\n",
        "embeds[hair_idx], embeds[shirt_idx]   #\n",
        "\n",
        "# sample['shirt']  # خروجی: 'red'\n",
        "# vocab[sample['shirt']] -->\n",
        "# vocab['red']  # خروجی: 3\n",
        "# vocab[sample['shirt']] -->\n",
        "# embeds[shirt_idx]-->"
      ],
      "metadata": {
        "id": "EJLw-0N54Eju",
        "colab": {
          "base_uri": "https://localhost:8080/"
        },
        "collapsed": true,
        "outputId": "fb58b519-cc94-4b0a-b35a-019e6e0e97cf"
      },
      "execution_count": null,
      "outputs": [
        {
          "output_type": "execute_result",
          "data": {
            "text/plain": [
              "(tensor([0., 0., 1., 0., 0.]), tensor([0., 0., 0., 1., 0.]))"
            ]
          },
          "metadata": {},
          "execution_count": 18
        }
      ]
    },
    {
      "cell_type": "markdown",
      "source": [
        "#Custom dataset"
      ],
      "metadata": {
        "id": "FD8uX_DT4ICX"
      }
    },
    {
      "cell_type": "code",
      "source": [
        "from torchvision.datasets import VisionDataset\n",
        "from typing import Optional, Callable\n",
        "from pathlib import Path\n",
        "from PIL import Image\n",
        "import torch\n",
        "import pandas as pd\n",
        "import torchvision.tv_tensors as tv_tensors\n",
        "\n",
        "class ImageTranslationDataset(VisionDataset):\n",
        "\n",
        "    def __init__(self, root: str,\n",
        "                 transforms: Optional[Callable] = None,\n",
        "                 memory: bool = False):\n",
        "\n",
        "        super().__init__(root, transforms=transforms)\n",
        "\n",
        "        self.input_folder = Path(root) / 'inputs'\n",
        "        self.target_folder = Path(root) / 'targets'\n",
        "\n",
        "        self.df = pd.read_csv(Path(root) / 'metadata.csv')\n",
        "\n",
        "        metadata = self.df['hair'].tolist() + self.df['shirt'].tolist()\n",
        "        unique_tokens = sorted(set(metadata))\n",
        "        self.vocab = {token: idx for idx, token in enumerate(unique_tokens)}\n",
        "\n",
        "        self.embeds = torch.eye(len(self.vocab))\n",
        "\n",
        "    def __len__(self):\n",
        "        return len(self.df)\n",
        "\n",
        "    def __getitem__(self, idx):\n",
        "        sample = self.df.iloc[idx]\n",
        "\n",
        "        input_image = self._load_image(self.input_folder / sample['input'])\n",
        "        target_image = self._load_image(self.target_folder / sample['target'])\n",
        "\n",
        "        hair, shirt = str(sample['hair']).strip(), str(sample['shirt']).strip()\n",
        "\n",
        "        hair_idx, shirt_idx = self.vocab[hair], self.vocab[shirt]\n",
        "\n",
        "        condition = self.embeds[[hair_idx, shirt_idx]]\n",
        "        condition = condition.view(-1, 1, 1)  # (C,1,1)\n",
        "\n",
        "        if self.transforms:\n",
        "            input_image, target_image = self.transforms(input_image, target_image)\n",
        "\n",
        "        return input_image, target_image, condition\n",
        "\n",
        "    def _load_image(self, path):\n",
        "        img = Image.open(path).convert(\"RGB\")\n",
        "        return tv_tensors.Image(img)\n",
        "\n",
        "    def __repr__(self):\n",
        "        return f'Number of datapoints: {len(self)}'\n"
      ],
      "metadata": {
        "id": "WJqTEB-ScVIH"
      },
      "execution_count": null,
      "outputs": []
    },
    {
      "cell_type": "code",
      "source": [
        "transform_train = v2.Compose([\n",
        "    v2.Resize(size=(256, 256), antialias=True),\n",
        "    v2.RandomHorizontalFlip(p=0.5),\n",
        "    v2.ToDtype(dtype=torch.float32, scale=True),\n",
        "    v2.Normalize(mean=(0.5,), std=(0.5,)),\n",
        "    ])\n",
        "\n",
        "transform_valid = v2.Compose([\n",
        "    v2.Resize(size=(256, 256), antialias=True),\n",
        "    v2.ToDtype(dtype=torch.float32, scale=True),\n",
        "    v2.Normalize(mean=(0.5,), std=(0.5,)),\n",
        "    ])"
      ],
      "metadata": {
        "id": "UDJQw54o4RET"
      },
      "execution_count": null,
      "outputs": []
    },
    {
      "cell_type": "code",
      "source": [
        "train_set = ImageTranslationDataset(root / 'train', transform_train)\n",
        "valid_set = ImageTranslationDataset(root / 'test', transform_valid)\n",
        "train_set, valid_set"
      ],
      "metadata": {
        "id": "H2Y0xfoY4ThD",
        "colab": {
          "base_uri": "https://localhost:8080/"
        },
        "outputId": "7a61d911-9071-41d8-8505-1d989da82348"
      },
      "execution_count": null,
      "outputs": [
        {
          "output_type": "execute_result",
          "data": {
            "text/plain": [
              "(Number of datapoints: 250, Number of datapoints: 100)"
            ]
          },
          "metadata": {},
          "execution_count": 21
        }
      ]
    },
    {
      "cell_type": "code",
      "source": [
        "from torch.utils.data import DataLoader\n",
        "train_loader = DataLoader(train_set, batch_size=32, shuffle=True)\n",
        "valid_loader = DataLoader(valid_set, batch_size=32, shuffle=False)\n",
        "\n",
        "len(train_loader), len(valid_loader)  #"
      ],
      "metadata": {
        "colab": {
          "base_uri": "https://localhost:8080/"
        },
        "id": "UFTz9gFNc8qS",
        "outputId": "d957edd2-2a13-4584-c08d-db4e485361b8"
      },
      "execution_count": null,
      "outputs": [
        {
          "output_type": "execute_result",
          "data": {
            "text/plain": [
              "(8, 4)"
            ]
          },
          "metadata": {},
          "execution_count": 22
        }
      ]
    },
    {
      "cell_type": "code",
      "source": [
        "imgs, tgts, conds = next(iter(train_loader))\n",
        "print(imgs.shape, tgts.shape, conds.shape)  # مثلاً: (32, 3, 256, 256), (32, 3, 256, 256), (32, C, 1, 1)\n"
      ],
      "metadata": {
        "colab": {
          "base_uri": "https://localhost:8080/"
        },
        "id": "PLeaugfwdB_I",
        "outputId": "81e034d2-e3b5-421c-dae8-938d6501e3c2"
      },
      "execution_count": null,
      "outputs": [
        {
          "output_type": "stream",
          "name": "stdout",
          "text": [
            "torch.Size([32, 3, 256, 256]) torch.Size([32, 3, 256, 256]) torch.Size([32, 10, 1, 1])\n"
          ]
        }
      ]
    },
    {
      "cell_type": "code",
      "source": [
        "idx = random.randint(0, len(train_set)-1)      #a random sample between 0 and the last index\n",
        "src, tgt, vecs = train_set[idx]                # coz of getitem, train_set[idx] has three outputs.\n",
        "\n",
        "fig, axes = plt.subplots(1, 2)\n",
        "axes[0].imshow(src.permute(1, 2, 0)), axes[0].axis('off')\n",
        "axes[1].imshow(tgt.permute(1, 2, 0)), axes[1].axis('off');\n",
        "\n",
        "print(vecs.shape)"
      ],
      "metadata": {
        "id": "apKInpBp4Vxg",
        "colab": {
          "base_uri": "https://localhost:8080/",
          "height": 334
        },
        "outputId": "ba0b3caf-24db-46f9-bbd3-d76e424ef084"
      },
      "execution_count": null,
      "outputs": [
        {
          "output_type": "stream",
          "name": "stderr",
          "text": [
            "WARNING:matplotlib.image:Clipping input data to the valid range for imshow with RGB data ([0..1] for floats or [0..255] for integers). Got range [-1.0..1.0].\n",
            "WARNING:matplotlib.image:Clipping input data to the valid range for imshow with RGB data ([0..1] for floats or [0..255] for integers). Got range [-1.0..1.0].\n"
          ]
        },
        {
          "output_type": "stream",
          "name": "stdout",
          "text": [
            "torch.Size([10, 1, 1])\n"
          ]
        },
        {
          "output_type": "display_data",
          "data": {
            "text/plain": [
              "<Figure size 640x480 with 2 Axes>"
            ],
            "image/png": "[encoded data removed]"
          },
          "metadata": {}
        }
      ]
    },
    {
      "cell_type": "markdown",
      "source": [
        "#DataLoader"
      ],
      "metadata": {
        "id": "TDVG7KrW4aHX"
      }
    },
    {
      "cell_type": "code",
      "source": [
        "train_loader = DataLoader(train_set, batch_size=batch_size, shuffle=True)\n",
        "valid_loader = DataLoader(valid_set, batch_size=batch_size, shuffle=True)"
      ],
      "metadata": {
        "id": "EaNYbzQn4cAo"
      },
      "execution_count": null,
      "outputs": []
    },
    {
      "cell_type": "code",
      "source": [
        "imgs, tgts, txts = next(iter(train_loader))\n",
        "imgs.shape, tgts.shape, txts.shape"
      ],
      "metadata": {
        "id": "8YwDgTdH4dwa",
        "colab": {
          "base_uri": "https://localhost:8080/"
        },
        "collapsed": true,
        "outputId": "97beae67-ffeb-4993-a0d6-6f5f3bd028bc"
      },
      "execution_count": null,
      "outputs": [
        {
          "output_type": "execute_result",
          "data": {
            "text/plain": [
              "(torch.Size([10, 3, 256, 256]),\n",
              " torch.Size([10, 3, 256, 256]),\n",
              " torch.Size([10, 10, 1, 1]))"
            ]
          },
          "metadata": {},
          "execution_count": 26
        }
      ]
    },
    {
      "cell_type": "code",
      "source": [
        "imgs, tgts, txts = next(iter(valid_loader))\n",
        "imgs.shape, tgts.shape, txts.shape"
      ],
      "metadata": {
        "id": "uBvb-csl4hRp",
        "colab": {
          "base_uri": "https://localhost:8080/"
        },
        "outputId": "19b4498d-88e2-494c-f229-6872afae9154"
      },
      "execution_count": null,
      "outputs": [
        {
          "output_type": "execute_result",
          "data": {
            "text/plain": [
              "(torch.Size([10, 3, 256, 256]),\n",
              " torch.Size([10, 3, 256, 256]),\n",
              " torch.Size([10, 10, 1, 1]))"
            ]
          },
          "metadata": {},
          "execution_count": 27
        }
      ]
    },
    {
      "cell_type": "markdown",
      "source": [
        "#Model"
      ],
      "metadata": {
        "id": "pAss6vHgVJPB"
      }
    },
    {
      "cell_type": "markdown",
      "source": [
        "#generator"
      ],
      "metadata": {
        "id": "mko9iRAXVLmz"
      }
    },
    {
      "cell_type": "markdown",
      "source": [
        "encoder block"
      ],
      "metadata": {
        "id": "NitkdKSYVPTd"
      }
    },
    {
      "cell_type": "code",
      "source": [
        "class EncoderBlock(nn.Module):\n",
        "\n",
        "  def __init__(self, in_channels, out_channels, kernel_size=4, batchnorm=True):    #class creator\n",
        "    super().__init__()                #prepare the internal part of module\n",
        "    self.conv = nn.Conv2d(in_channels, out_channels, kernel_size, stride=2, padding=1, bias=False)\n",
        "    self.bn = nn.BatchNorm2d(out_channels) if batchnorm else None\n",
        "    self.af = nn.LeakyReLU(0.2, inplace=True)\n",
        "\n",
        "  def forward(self, x):\n",
        "    x = self.conv(x)\n",
        "    if self.bn:\n",
        "      x = self.bn(x)\n",
        "    x = self.af(x)\n",
        "    return x"
      ],
      "metadata": {
        "id": "B4meUBcRVKn9"
      },
      "execution_count": null,
      "outputs": []
    },
    {
      "cell_type": "code",
      "source": [
        "#texting the block above\n",
        "\n",
        "encoder_block = EncoderBlock(in_channels=3, out_channels=64, kernel_size=4, batchnorm=True)\n",
        "with torch.no_grad():\n",
        "  tmp = encoder_block(torch.randn(1, 3, 256, 256))  ##\n",
        "tmp.shape    #(1, 64, 128, 128)"
      ],
      "metadata": {
        "id": "H1BWUrGpVarZ",
        "colab": {
          "base_uri": "https://localhost:8080/"
        },
        "outputId": "cc874687-34be-4d7e-f01f-8a4c6eda3410"
      },
      "execution_count": null,
      "outputs": [
        {
          "output_type": "execute_result",
          "data": {
            "text/plain": [
              "torch.Size([1, 64, 128, 128])"
            ]
          },
          "metadata": {},
          "execution_count": 29
        }
      ]
    },
    {
      "cell_type": "markdown",
      "source": [
        "decoder block"
      ],
      "metadata": {
        "id": "exb-oYNRVRMj"
      }
    },
    {
      "cell_type": "code",
      "source": [
        "class DecoderBlock(nn.Module):\n",
        "\n",
        "  def __init__(self, in_channels, out_channels, kernel_size=4, dropout=False):\n",
        "    super().__init__()\n",
        "\n",
        "    self.tconv = nn.ConvTranspose2d(in_channels, out_channels, kernel_size, stride=2, padding=1, bias=False)\n",
        "    self.bn = nn.BatchNorm2d(out_channels)\n",
        "    self.dropout = nn.Dropout(0.5) if dropout else None   #dropout to prevent from overfitting\n",
        "    self.af = nn.ReLU()\n",
        "\n",
        "  def forward(self, x):\n",
        "    x = self.tconv(x)\n",
        "    x = self.bn(x)\n",
        "    if self.dropout:\n",
        "      x = self.dropout(x)\n",
        "    x = self.af(x)\n",
        "    return x"
      ],
      "metadata": {
        "id": "eJU8dMxDVeb-"
      },
      "execution_count": null,
      "outputs": []
    },
    {
      "cell_type": "code",
      "source": [
        "decoder_block = DecoderBlock(in_channels=512, out_channels=256, dropout=False)\n",
        "tmp = decoder_block(torch.randn(2, 512, 4, 4))\n",
        "tmp.shape"
      ],
      "metadata": {
        "id": "jCkPl5oZVe_i",
        "colab": {
          "base_uri": "https://localhost:8080/"
        },
        "outputId": "df4faaea-76ae-4fa8-cd1d-8e06ff4f906a"
      },
      "execution_count": null,
      "outputs": [
        {
          "output_type": "execute_result",
          "data": {
            "text/plain": [
              "torch.Size([2, 256, 8, 8])"
            ]
          },
          "metadata": {},
          "execution_count": 31
        }
      ]
    },
    {
      "cell_type": "markdown",
      "source": [
        "#Unet"
      ],
      "metadata": {
        "id": "YAPU14wkVi8i"
      }
    },
    {
      "cell_type": "code",
      "source": [
        "class Generator(nn.Module):\n",
        "\n",
        "  def __init__(self, in_channels=13):\n",
        "    super().__init__()\n",
        "\n",
        "    # Encoder (Making it small + feature extraction)\n",
        "    nc = [in_channels, 64, 128, 256, 512, 512, 512, 512, 512]\n",
        "    self.encoders = nn.ModuleList([\n",
        "        EncoderBlock(nc[i-1], nc[i], batchnorm=False if i==1 else True) for i in range(1, len(nc))\n",
        "    ])\n",
        "\n",
        "\n",
        "    # Decoder\n",
        "    nc.reverse()\n",
        "    self.decoders = nn.ModuleList([\n",
        "        DecoderBlock(2*nc[i-1] if i>1 else nc[i-1], nc[i], dropout=True if i<4 else False) for i in range(1, len(nc[:-1]))\n",
        "    ])\n",
        "    self.last = nn.ConvTranspose2d(128, 3, kernel_size=4, stride=2, padding=1)\n",
        "    self.tanh = nn.Tanh()\n",
        "\n",
        "  def forward(self, x, c):\n",
        "    _, _, h, w = x.shape\n",
        "    c = c.repeat(1, 1, h, w)\n",
        "    x = torch.cat((x, c), dim=1)\n",
        "\n",
        "    # Encoder\n",
        "    skips = []\n",
        "    for encoder in self.encoders:\n",
        "      x = encoder(x)\n",
        "      skips.append(x)\n",
        "\n",
        "    skips = reversed(skips[:-1])\n",
        "\n",
        "    # Decoder\n",
        "    for decoder, skip in zip(self.decoders, skips):\n",
        "      x = decoder(x)\n",
        "      x = torch.cat((x, skip), 1)\n",
        "\n",
        "    out = self.last(x)\n",
        "    out = self.tanh(out)\n",
        "\n",
        "    return out"
      ],
      "metadata": {
        "id": "2W_yg0zaVkt5"
      },
      "execution_count": null,
      "outputs": []
    },
    {
      "cell_type": "code",
      "source": [
        "generator = Generator(in_channels=13)\n",
        "tmp = generator(torch.randn(2, 3, 256, 256), torch.randn(2, 10, 1, 1))\n",
        "tmp.shape  #(batch, 3, 256, 256)"
      ],
      "metadata": {
        "id": "ACoLAGQsVqfI",
        "colab": {
          "base_uri": "https://localhost:8080/"
        },
        "outputId": "3782b70f-b307-48dd-a4d8-0263b2a93a7a"
      },
      "execution_count": null,
      "outputs": [
        {
          "output_type": "execute_result",
          "data": {
            "text/plain": [
              "torch.Size([2, 3, 256, 256])"
            ]
          },
          "metadata": {},
          "execution_count": 33
        }
      ]
    },
    {
      "cell_type": "code",
      "source": [
        "generator"
      ],
      "metadata": {
        "id": "6gYwrbrfVsaG",
        "colab": {
          "base_uri": "https://localhost:8080/"
        },
        "outputId": "3b917659-1ae3-437d-a2a1-2631c64d3097"
      },
      "execution_count": null,
      "outputs": [
        {
          "output_type": "execute_result",
          "data": {
            "text/plain": [
              "Generator(\n",
              "  (encoders): ModuleList(\n",
              "    (0): EncoderBlock(\n",
              "      (conv): Conv2d(13, 64, kernel_size=(4, 4), stride=(2, 2), padding=(1, 1), bias=False)\n",
              "      (af): LeakyReLU(negative_slope=0.2, inplace=True)\n",
              "    )\n",
              "    (1): EncoderBlock(\n",
              "      (conv): Conv2d(64, 128, kernel_size=(4, 4), stride=(2, 2), padding=(1, 1), bias=False)\n",
              "      (bn): BatchNorm2d(128, eps=1e-05, momentum=0.1, affine=True, track_running_stats=True)\n",
              "      (af): LeakyReLU(negative_slope=0.2, inplace=True)\n",
              "    )\n",
              "    (2): EncoderBlock(\n",
              "      (conv): Conv2d(128, 256, kernel_size=(4, 4), stride=(2, 2), padding=(1, 1), bias=False)\n",
              "      (bn): BatchNorm2d(256, eps=1e-05, momentum=0.1, affine=True, track_running_stats=True)\n",
              "      (af): LeakyReLU(negative_slope=0.2, inplace=True)\n",
              "    )\n",
              "    (3): EncoderBlock(\n",
              "      (conv): Conv2d(256, 512, kernel_size=(4, 4), stride=(2, 2), padding=(1, 1), bias=False)\n",
              "      (bn): BatchNorm2d(512, eps=1e-05, momentum=0.1, affine=True, track_running_stats=True)\n",
              "      (af): LeakyReLU(negative_slope=0.2, inplace=True)\n",
              "    )\n",
              "    (4-7): 4 x EncoderBlock(\n",
              "      (conv): Conv2d(512, 512, kernel_size=(4, 4), stride=(2, 2), padding=(1, 1), bias=False)\n",
              "      (bn): BatchNorm2d(512, eps=1e-05, momentum=0.1, affine=True, track_running_stats=True)\n",
              "      (af): LeakyReLU(negative_slope=0.2, inplace=True)\n",
              "    )\n",
              "  )\n",
              "  (decoders): ModuleList(\n",
              "    (0): DecoderBlock(\n",
              "      (tconv): ConvTranspose2d(512, 512, kernel_size=(4, 4), stride=(2, 2), padding=(1, 1), bias=False)\n",
              "      (bn): BatchNorm2d(512, eps=1e-05, momentum=0.1, affine=True, track_running_stats=True)\n",
              "      (dropout): Dropout(p=0.5, inplace=False)\n",
              "      (af): ReLU()\n",
              "    )\n",
              "    (1-2): 2 x DecoderBlock(\n",
              "      (tconv): ConvTranspose2d(1024, 512, kernel_size=(4, 4), stride=(2, 2), padding=(1, 1), bias=False)\n",
              "      (bn): BatchNorm2d(512, eps=1e-05, momentum=0.1, affine=True, track_running_stats=True)\n",
              "      (dropout): Dropout(p=0.5, inplace=False)\n",
              "      (af): ReLU()\n",
              "    )\n",
              "    (3): DecoderBlock(\n",
              "      (tconv): ConvTranspose2d(1024, 512, kernel_size=(4, 4), stride=(2, 2), padding=(1, 1), bias=False)\n",
              "      (bn): BatchNorm2d(512, eps=1e-05, momentum=0.1, affine=True, track_running_stats=True)\n",
              "      (af): ReLU()\n",
              "    )\n",
              "    (4): DecoderBlock(\n",
              "      (tconv): ConvTranspose2d(1024, 256, kernel_size=(4, 4), stride=(2, 2), padding=(1, 1), bias=False)\n",
              "      (bn): BatchNorm2d(256, eps=1e-05, momentum=0.1, affine=True, track_running_stats=True)\n",
              "      (af): ReLU()\n",
              "    )\n",
              "    (5): DecoderBlock(\n",
              "      (tconv): ConvTranspose2d(512, 128, kernel_size=(4, 4), stride=(2, 2), padding=(1, 1), bias=False)\n",
              "      (bn): BatchNorm2d(128, eps=1e-05, momentum=0.1, affine=True, track_running_stats=True)\n",
              "      (af): ReLU()\n",
              "    )\n",
              "    (6): DecoderBlock(\n",
              "      (tconv): ConvTranspose2d(256, 64, kernel_size=(4, 4), stride=(2, 2), padding=(1, 1), bias=False)\n",
              "      (bn): BatchNorm2d(64, eps=1e-05, momentum=0.1, affine=True, track_running_stats=True)\n",
              "      (af): ReLU()\n",
              "    )\n",
              "  )\n",
              "  (last): ConvTranspose2d(128, 3, kernel_size=(4, 4), stride=(2, 2), padding=(1, 1))\n",
              "  (tanh): Tanh()\n",
              ")"
            ]
          },
          "metadata": {},
          "execution_count": 34
        }
      ]
    },
    {
      "cell_type": "markdown",
      "source": [
        "#Discriminator"
      ],
      "metadata": {
        "id": "gH7ooGe_Vu4m"
      }
    },
    {
      "cell_type": "markdown",
      "source": [
        "**Basic block** is similar to EncoderBlock in Generator."
      ],
      "metadata": {
        "id": "fhfuKeR_VxyX"
      }
    },
    {
      "cell_type": "code",
      "source": [
        "class BasicBlock(nn.Module):\n",
        "\n",
        "  def __init__(self, in_channels, out_channels, kernel_size=4, batchnorm=True):\n",
        "    super().__init__()\n",
        "    self.conv = nn.Conv2d(in_channels, out_channels, kernel_size, stride=2, padding=1, bias=False)\n",
        "    self.bn = nn.BatchNorm2d(out_channels) if batchnorm else None\n",
        "    self.af = nn.LeakyReLU(0.2, inplace=True)\n",
        "\n",
        "  def forward(self, x):\n",
        "    x = self.conv(x)\n",
        "    if self.bn:\n",
        "      x = self.bn(x)\n",
        "    x = self.af(x)\n",
        "    return x"
      ],
      "metadata": {
        "id": "PulmBLxSVwhc"
      },
      "execution_count": null,
      "outputs": []
    },
    {
      "cell_type": "code",
      "source": [
        "basic_block = BasicBlock(in_channels=3, out_channels=64, kernel_size=4, batchnorm=True)\n",
        "with torch.no_grad():\n",
        "  tmp = basic_block(torch.randn(1, 3, 256, 256))\n",
        "tmp.shape"
      ],
      "metadata": {
        "id": "CdC467bEV2eH",
        "colab": {
          "base_uri": "https://localhost:8080/"
        },
        "collapsed": true,
        "outputId": "7f9f7093-14b4-41ef-8f14-aa9fbdf1f7af"
      },
      "execution_count": null,
      "outputs": [
        {
          "output_type": "execute_result",
          "data": {
            "text/plain": [
              "torch.Size([1, 64, 128, 128])"
            ]
          },
          "metadata": {},
          "execution_count": 36
        }
      ]
    },
    {
      "cell_type": "markdown",
      "source": [
        "#Main discriminator"
      ],
      "metadata": {
        "id": "4yJu2oV-V52o"
      }
    },
    {
      "cell_type": "code",
      "source": [
        "class Discriminator(nn.Module):\n",
        "\n",
        "  def __init__(self, in_channels=16):\n",
        "    super().__init__()\n",
        "\n",
        "    # first layer without batchnormalization\n",
        "    nc = [in_channels, 64, 128, 256]\n",
        "    self.layers = nn.ModuleList([\n",
        "        EncoderBlock(nc[i-1], nc[i], batchnorm=True if i>1 else False) for i in range(1, len(nc))\n",
        "    ])\n",
        "\n",
        "    self.layers += nn.Sequential(\n",
        "        nn.ZeroPad2d(padding=1),\n",
        "        nn.Conv2d(256, 512, kernel_size=4, bias=False),\n",
        "        nn.BatchNorm2d(512),\n",
        "        nn.LeakyReLU(0.2))\n",
        "\n",
        "    self.layers += nn.Sequential(\n",
        "        nn.ZeroPad2d(1),\n",
        "        nn.Conv2d(512, 1, kernel_size=4)\n",
        "    )\n",
        "\n",
        "  def forward(self, x, y, c):\n",
        "    # Concat\n",
        "    _, _, h, w = x.shape\n",
        "    c = c.repeat(1, 1, h, w)\n",
        "    x = torch.cat((x, y, c), dim=1)\n",
        "\n",
        "    for layer in self.layers:\n",
        "      x = layer(x)      #(B, 1, H_out, W_out)\n",
        "    return x"
      ],
      "metadata": {
        "id": "oNlaPSkmV__b"
      },
      "execution_count": null,
      "outputs": []
    },
    {
      "cell_type": "code",
      "source": [
        "discriminator = Discriminator(in_channels=16)\n",
        "tmp = discriminator(torch.randn(2, 3, 256, 256), torch.randn(2, 3, 256, 256), torch.randn(2, 10, 1, 1))\n",
        "tmp.shape"
      ],
      "metadata": {
        "id": "zE1YSXZDWCSB",
        "colab": {
          "base_uri": "https://localhost:8080/"
        },
        "outputId": "019b6998-b79d-4962-b0de-968c93ef4df8"
      },
      "execution_count": null,
      "outputs": [
        {
          "output_type": "execute_result",
          "data": {
            "text/plain": [
              "torch.Size([2, 1, 30, 30])"
            ]
          },
          "metadata": {},
          "execution_count": 38
        }
      ]
    },
    {
      "cell_type": "code",
      "source": [
        "discriminator"
      ],
      "metadata": {
        "id": "svZRglHdWD9Q",
        "colab": {
          "base_uri": "https://localhost:8080/"
        },
        "outputId": "f7e9f37c-ce26-43bb-9fcd-3303fc8613ab"
      },
      "execution_count": null,
      "outputs": [
        {
          "output_type": "execute_result",
          "data": {
            "text/plain": [
              "Discriminator(\n",
              "  (layers): ModuleList(\n",
              "    (0): EncoderBlock(\n",
              "      (conv): Conv2d(16, 64, kernel_size=(4, 4), stride=(2, 2), padding=(1, 1), bias=False)\n",
              "      (af): LeakyReLU(negative_slope=0.2, inplace=True)\n",
              "    )\n",
              "    (1): EncoderBlock(\n",
              "      (conv): Conv2d(64, 128, kernel_size=(4, 4), stride=(2, 2), padding=(1, 1), bias=False)\n",
              "      (bn): BatchNorm2d(128, eps=1e-05, momentum=0.1, affine=True, track_running_stats=True)\n",
              "      (af): LeakyReLU(negative_slope=0.2, inplace=True)\n",
              "    )\n",
              "    (2): EncoderBlock(\n",
              "      (conv): Conv2d(128, 256, kernel_size=(4, 4), stride=(2, 2), padding=(1, 1), bias=False)\n",
              "      (bn): BatchNorm2d(256, eps=1e-05, momentum=0.1, affine=True, track_running_stats=True)\n",
              "      (af): LeakyReLU(negative_slope=0.2, inplace=True)\n",
              "    )\n",
              "    (3): ZeroPad2d((1, 1, 1, 1))\n",
              "    (4): Conv2d(256, 512, kernel_size=(4, 4), stride=(1, 1), bias=False)\n",
              "    (5): BatchNorm2d(512, eps=1e-05, momentum=0.1, affine=True, track_running_stats=True)\n",
              "    (6): LeakyReLU(negative_slope=0.2)\n",
              "    (7): ZeroPad2d((1, 1, 1, 1))\n",
              "    (8): Conv2d(512, 1, kernel_size=(4, 4), stride=(1, 1))\n",
              "  )\n",
              ")"
            ]
          },
          "metadata": {},
          "execution_count": 39
        }
      ]
    },
    {
      "cell_type": "markdown",
      "source": [
        "#Final: Creating Discriminator and Generator"
      ],
      "metadata": {
        "id": "mS3skPdWWGdv"
      }
    },
    {
      "cell_type": "code",
      "source": [
        "generator = Generator(in_channels=13)\n",
        "discriminator = Discriminator(in_channels=16)"
      ],
      "metadata": {
        "id": "pdkJ_1ylWHoA"
      },
      "execution_count": null,
      "outputs": []
    },
    {
      "cell_type": "code",
      "source": [
        "x, y, c = next(iter(train_loader))  #x: input/ y:target/c: one hot\n",
        "print(x.shape, y.shape, c.shape)"
      ],
      "metadata": {
        "id": "GtG8Du7KWKZr",
        "colab": {
          "base_uri": "https://localhost:8080/"
        },
        "outputId": "89a6cb9a-0327-4fcf-d2bc-071f5b6ad058"
      },
      "execution_count": null,
      "outputs": [
        {
          "output_type": "stream",
          "name": "stdout",
          "text": [
            "torch.Size([10, 3, 256, 256]) torch.Size([10, 3, 256, 256]) torch.Size([10, 10, 1, 1])\n"
          ]
        }
      ]
    },
    {
      "cell_type": "code",
      "source": [
        "tmp = generator(x, c)   #G(x)\n",
        "tmp.shape"
      ],
      "metadata": {
        "id": "ypkNRYuIWMy5",
        "colab": {
          "base_uri": "https://localhost:8080/"
        },
        "outputId": "cbcb08b9-0089-4b63-a15f-7aa6415a07b2"
      },
      "execution_count": null,
      "outputs": [
        {
          "output_type": "execute_result",
          "data": {
            "text/plain": [
              "torch.Size([10, 3, 256, 256])"
            ]
          },
          "metadata": {},
          "execution_count": 42
        }
      ]
    },
    {
      "cell_type": "markdown",
      "source": [
        "we have two modes for discriminator"
      ],
      "metadata": {
        "id": "YkyKXGP5ONSZ"
      }
    },
    {
      "cell_type": "code",
      "source": [
        "tmp = discriminator(x, y, c)  #x: sketch (main input)\n",
        "tmp.shape"
      ],
      "metadata": {
        "id": "BJzv5qCEWOZg",
        "colab": {
          "base_uri": "https://localhost:8080/"
        },
        "outputId": "a6e7bfeb-4498-4747-e026-2c2821ed8915"
      },
      "execution_count": null,
      "outputs": [
        {
          "output_type": "execute_result",
          "data": {
            "text/plain": [
              "torch.Size([10, 1, 30, 30])"
            ]
          },
          "metadata": {},
          "execution_count": 43
        }
      ]
    },
    {
      "cell_type": "code",
      "source": [
        "tmp = discriminator(x, generator(x, c), c)\n",
        "tmp.shape"
      ],
      "metadata": {
        "id": "T3YBPWVZWQ_Q",
        "colab": {
          "base_uri": "https://localhost:8080/"
        },
        "outputId": "830d3d03-2995-4a85-e6ea-cadb7a9d62ad"
      },
      "execution_count": null,
      "outputs": [
        {
          "output_type": "execute_result",
          "data": {
            "text/plain": [
              "torch.Size([10, 1, 30, 30])"
            ]
          },
          "metadata": {},
          "execution_count": 44
        }
      ]
    },
    {
      "cell_type": "markdown",
      "source": [
        "#Config"
      ],
      "metadata": {
        "id": "7KxT2mzfOXdh"
      }
    },
    {
      "cell_type": "markdown",
      "source": [
        "Loss_Generator"
      ],
      "metadata": {
        "id": "p-_NK5r5OdjK"
      }
    },
    {
      "cell_type": "code",
      "source": [
        "class GeneratorLoss(nn.Module):\n",
        "\n",
        "  def __init__(self, LAMBDA=100):\n",
        "    super().__init__()\n",
        "    self.LAMBDA = LAMBDA\n",
        "    self.l1 = nn.L1Loss()\n",
        "    self.bce = nn.BCEWithLogitsLoss()\n",
        "\n",
        "  def forward(self, disc_generated_output, gen_output, target):\n",
        "    l1_loss = self.l1(gen_output, target)\n",
        "\n",
        "\n",
        "\n",
        "    all_ones = torch.ones_like(disc_generated_output)\n",
        "    gan_loss = self.bce(disc_generated_output, all_ones)\n",
        "\n",
        "    total_gan_loss = gan_loss + self.LAMBDA * l1_loss\n",
        "\n",
        "    return total_gan_loss"
      ],
      "metadata": {
        "id": "9Q6HiY2MOZWE"
      },
      "execution_count": null,
      "outputs": []
    },
    {
      "cell_type": "code",
      "source": [
        "loss_g = GeneratorLoss(LAMBDA=100)\n",
        "loss_g"
      ],
      "metadata": {
        "id": "cM2FpF3BOpNc",
        "colab": {
          "base_uri": "https://localhost:8080/"
        },
        "outputId": "bfa41be4-f810-4a57-a5fc-0f9e1ff68d01"
      },
      "execution_count": null,
      "outputs": [
        {
          "output_type": "execute_result",
          "data": {
            "text/plain": [
              "GeneratorLoss(\n",
              "  (l1): L1Loss()\n",
              "  (bce): BCEWithLogitsLoss()\n",
              ")"
            ]
          },
          "metadata": {},
          "execution_count": 46
        }
      ]
    },
    {
      "cell_type": "code",
      "source": [
        "x, y, c = next(iter(train_loader))\n",
        "g_x = generator(x, c)\n",
        "d_g_x = discriminator(x, g_x, c)\n",
        "loss_g(d_g_x, g_x, y)"
      ],
      "metadata": {
        "id": "vvsjozTGOrlJ",
        "colab": {
          "base_uri": "https://localhost:8080/"
        },
        "outputId": "71403d0b-0d4c-4bfa-8aa0-7cdb98486efc"
      },
      "execution_count": null,
      "outputs": [
        {
          "output_type": "execute_result",
          "data": {
            "text/plain": [
              "tensor(80.9170, grad_fn=<AddBackward0>)"
            ]
          },
          "metadata": {},
          "execution_count": 47
        }
      ]
    },
    {
      "cell_type": "markdown",
      "source": [
        "Loss_discriminator"
      ],
      "metadata": {
        "id": "NBwzrib5OusB"
      }
    },
    {
      "cell_type": "code",
      "source": [
        "class DiscriminatorLoss(nn.Module):\n",
        "\n",
        "  def __init__(self):\n",
        "    super().__init__()\n",
        "    self.bce = nn.BCEWithLogitsLoss()\n",
        "\n",
        "  def forward(self, disc_real_output, disc_generated_output):\n",
        "\n",
        "    #for real input\n",
        "    all_ones = torch.ones_like(disc_real_output)\n",
        "    real_loss = self.bce(disc_real_output, all_ones)\n",
        "\n",
        "    #for fake input\n",
        "    all_zeros = torch.zeros_like(disc_generated_output)\n",
        "    generated_loss = self.bce(disc_generated_output, all_zeros)\n",
        "\n",
        "    total_disc_loss = real_loss + generated_loss\n",
        "\n",
        "    return total_disc_loss"
      ],
      "metadata": {
        "id": "tyUe0SV_Owg5"
      },
      "execution_count": null,
      "outputs": []
    },
    {
      "cell_type": "code",
      "source": [
        "loss_d = DiscriminatorLoss()\n",
        "loss_d"
      ],
      "metadata": {
        "id": "dePZLvFwO0cp",
        "colab": {
          "base_uri": "https://localhost:8080/"
        },
        "outputId": "6ca11dda-28cb-424f-e20d-a60c1ee7f271"
      },
      "execution_count": null,
      "outputs": [
        {
          "output_type": "execute_result",
          "data": {
            "text/plain": [
              "DiscriminatorLoss(\n",
              "  (bce): BCEWithLogitsLoss()\n",
              ")"
            ]
          },
          "metadata": {},
          "execution_count": 49
        }
      ]
    },
    {
      "cell_type": "code",
      "source": [
        "x, y, c = next(iter(train_loader))\n",
        "g_x = generator(x, c)\n",
        "d_g_x = discriminator(x, g_x, c)\n",
        "d_x = discriminator(x, y, c)\n",
        "loss_d(d_x, d_g_x)"
      ],
      "metadata": {
        "id": "VVcBmRDOO08f",
        "colab": {
          "base_uri": "https://localhost:8080/"
        },
        "outputId": "ee9a6dbc-0ac7-4b98-c1c6-bae017b7f315"
      },
      "execution_count": null,
      "outputs": [
        {
          "output_type": "execute_result",
          "data": {
            "text/plain": [
              "tensor(1.4380, grad_fn=<AddBackward0>)"
            ]
          },
          "metadata": {},
          "execution_count": 50
        }
      ]
    },
    {
      "cell_type": "markdown",
      "source": [
        "#Optimizer"
      ],
      "metadata": {
        "id": "7TXbTFYcO4xf"
      }
    },
    {
      "cell_type": "code",
      "source": [
        "optimizer_g = optim.Adam(generator.parameters(), lr=2e-4, betas=(0.5, 0.999))\n",
        "optimizer_d = optim.Adam(discriminator.parameters(), lr=2e-4, betas=(0.5, 0.999))"
      ],
      "metadata": {
        "id": "BiY4i9noO7Fm"
      },
      "execution_count": null,
      "outputs": []
    },
    {
      "cell_type": "code",
      "source": [
        "if wandb_enable:\n",
        "    key_file = '/content/key'\n",
        "\n",
        "    if os.path.exists(key_file):\n",
        "        with open(key_file) as f:\n",
        "            key = f.readline().strip()\n",
        "        wandb.login(key=key)\n",
        "    else:\n",
        "        print(\"Key file does not exist. Please create the key file with your wandb API key.\")"
      ],
      "metadata": {
        "id": "-Pn23BSMO_qq"
      },
      "execution_count": null,
      "outputs": []
    },
    {
      "cell_type": "markdown",
      "source": [
        "#Train"
      ],
      "metadata": {
        "id": "5QuZU-MbPR5r"
      }
    },
    {
      "cell_type": "code",
      "source": [
        "def train_one_epoch(generator, discriminator,\n",
        "                    train_loader,\n",
        "                    generator_loss_fn, discriminator_loss_fn,\n",
        "                    generator_optimizer, discriminator_optimizer,\n",
        "                    epoch=None):\n",
        "\n",
        "  generator.train()\n",
        "  discriminator.train()\n",
        "\n",
        "  gen_total_loss, disc_total_loss = MeanMetric(), MeanMetric()\n",
        "\n",
        " #tqdm-->prgress bar\n",
        "  with tqdm.tqdm(train_loader, unit='batch') as tepoch:\n",
        "    for inputs, targets, conditions in tepoch:\n",
        "      if epoch:\n",
        "        tepoch.set_description(f'Epoch {epoch}')\n",
        "\n",
        "      inputs = inputs.to(device)\n",
        "      targets = targets.to(device)\n",
        "      conditions = conditions.to(device)\n",
        "\n",
        "      # Generator's loss\n",
        "      gen_outputs = generator(inputs, conditions)\n",
        "      disc_gen_outputs = discriminator(inputs, gen_outputs, conditions)\n",
        "      gen_loss = generator_loss_fn(disc_gen_outputs, gen_outputs, targets)\n",
        "\n",
        "\n",
        "      gen_outputs = generator(inputs, conditions).detach()        #\n",
        "      disc_gen_outputs = discriminator(inputs, gen_outputs, conditions)\n",
        "      disc_real_outputs = discriminator(inputs, targets, conditions)\n",
        "      disc_loss = discriminator_loss_fn(disc_real_outputs, disc_gen_outputs) #\n",
        "\n",
        "      # Generator's params update\n",
        "      generator_optimizer.zero_grad()   # gradients become zero\n",
        "      gen_loss.backward()\n",
        "      generator_optimizer.step()        #Adam generator step forwards\n",
        "\n",
        "      # Discriminator's params update\n",
        "      discriminator_optimizer.zero_grad()\n",
        "      disc_loss.backward()\n",
        "      discriminator_optimizer.step()\n",
        "\n",
        "      gen_total_loss.update(gen_loss.item(), weight=len(inputs))\n",
        "      disc_total_loss.update(disc_loss.item(), weight=len(inputs))\n",
        "\n",
        "      tepoch.set_postfix(\n",
        "          lossG=gen_total_loss.compute().item(),\n",
        "          lossD=disc_total_loss.compute().item()\n",
        "          )\n",
        "\n",
        "  return gen_total_loss.compute().item(), disc_total_loss.compute().item()"
      ],
      "metadata": {
        "id": "qLL830jGPTOZ"
      },
      "execution_count": null,
      "outputs": []
    },
    {
      "cell_type": "markdown",
      "source": [
        "#Evaluation:"
      ],
      "metadata": {
        "id": "yS-K14ASPj0r"
      }
    },
    {
      "cell_type": "code",
      "source": [
        "def evaluate(generator, test_loader, loss_fn):\n",
        "\n",
        "  loss_eval = MeanMetric()\n",
        "\n",
        "  with torch.inference_mode():\n",
        "    for inputs, targets, conditions in test_loader:   #getting batches from testloader\n",
        "\n",
        "      inputs = inputs.to(device)\n",
        "      targets = targets.to(device)\n",
        "      conditions = conditions.to(device)\n",
        "\n",
        "      outputs = generator(inputs, conditions)     #\n",
        "\n",
        "      loss = loss_fn(outputs, targets)            #MSE (compare between gen output and target)\n",
        "      loss_eval.update(loss.item(), weight=len(targets))\n",
        "\n",
        "  return loss_eval.compute().item()"
      ],
      "metadata": {
        "id": "-g_Z5WBpPlTt"
      },
      "execution_count": null,
      "outputs": []
    },
    {
      "cell_type": "markdown",
      "source": [
        "#Generate"
      ],
      "metadata": {
        "id": "QT5VEnI-Pugp"
      }
    },
    {
      "cell_type": "code",
      "source": [
        "def generate(generator, valid_loader, filename='img.png'):\n",
        "\n",
        "  inputs, targets, conditions = next(iter(valid_loader))\n",
        "  inputs = inputs.to(device)\n",
        "  conditions = conditions.to(device)\n",
        "\n",
        "  with torch.inference_mode():\n",
        "    outputs = generator(inputs, conditions)\n",
        "\n",
        "  outputs = (255*(0.5*outputs + 0.5)).byte().cpu()\n",
        "  targets = (255*(0.5*targets + 0.5)).byte().cpu()\n",
        "\n",
        "  imgs = [t for t in targets] + [o for o in outputs]\n",
        "  grid = make_grid(imgs, nrow=10)\n",
        "  io.write_png(grid, filename)"
      ],
      "metadata": {
        "id": "5ppA1SStPvmJ"
      },
      "execution_count": null,
      "outputs": []
    },
    {
      "cell_type": "code",
      "source": [
        "generate(generator.cuda(), valid_loader)"
      ],
      "metadata": {
        "id": "S49jIWMmP0Uf"
      },
      "execution_count": null,
      "outputs": []
    },
    {
      "cell_type": "markdown",
      "source": [
        "#Main Loop"
      ],
      "metadata": {
        "id": "fgKeW0DGP-BW"
      }
    },
    {
      "cell_type": "code",
      "source": [
        "torch.cuda.empty_cache()  #"
      ],
      "metadata": {
        "id": "GgHUNMrpP_mG"
      },
      "execution_count": null,
      "outputs": []
    },
    {
      "cell_type": "code",
      "source": [
        "set_seed(seed)\n",
        "\n",
        "#Building models\n",
        "generator = Generator(in_channels=13).to(device)\n",
        "discriminator = Discriminator(in_channels=16).to(device)"
      ],
      "metadata": {
        "id": "ObwNBQwXQC-w"
      },
      "execution_count": null,
      "outputs": []
    },
    {
      "cell_type": "code",
      "source": [
        "gen_loss_fn = GeneratorLoss(LAMBDA=100)\n",
        "disc_loss_fn = DiscriminatorLoss()"
      ],
      "metadata": {
        "id": "OL9yz1kHQEp5"
      },
      "execution_count": null,
      "outputs": []
    },
    {
      "cell_type": "code",
      "source": [
        "set_seed(seed)\n",
        "\n",
        "lr = 0.0002\n",
        "gen_optimizer = torch.optim.Adam(generator.parameters(), lr=lr, betas=(0.5, 0.999))\n",
        "disc_optimizer = torch.optim.Adam(discriminator.parameters(), lr=lr, betas=(0.5, 0.999))"
      ],
      "metadata": {
        "id": "cTBypbxMQHlh"
      },
      "execution_count": null,
      "outputs": []
    },
    {
      "cell_type": "code",
      "source": [
        "if wandb_enable:\n",
        "  wandb.init(\n",
        "      project=...,\n",
        "      name=wandb_arg_name,\n",
        "      config={\n",
        "          'lr': lr,\n",
        "          'momentum': momentum,\n",
        "          'batch_size': batch_size,\n",
        "          'seq_len': seq_len,\n",
        "          'hidden_dim': hidden_dim,\n",
        "          'embedding_dim': embedding_dim,\n",
        "          'num_layers': num_layers,\n",
        "          'dropout_embed': dropoute,\n",
        "          'dropout_in_lstm': dropouti,\n",
        "          'dropout_h_lstm': dropouth,\n",
        "          'dropout_out_lstm': dropouto,\n",
        "          'clip': clip,\n",
        "      }\n",
        "  )"
      ],
      "metadata": {
        "id": "0dYqVqmKQKTL"
      },
      "execution_count": null,
      "outputs": []
    },
    {
      "cell_type": "code",
      "source": [
        "loss_gen_hist = []\n",
        "loss_disc_hist = []\n",
        "loss_valid_hist = []\n",
        "\n",
        "best_loss_valid = torch.inf\n",
        "epoch_counter = 0"
      ],
      "metadata": {
        "id": "l-sT5bFJQM0o"
      },
      "execution_count": null,
      "outputs": []
    },
    {
      "cell_type": "code",
      "source": [
        "from pathlib import Path\n",
        "import os\n",
        "\n",
        "RESULTS_DIR = Path('/content/drive/MyDrive/processed/results')\n",
        "WEIGHTS_DIR = Path('/content/drive/MyDrive/processed/weights')\n",
        "\n",
        "# RESULTS_DIR = Path('results')\n",
        "# WEIGHTS_DIR = Path('weights')\n",
        "\n",
        "os.makedirs(RESULTS_DIR, exist_ok=True)\n",
        "os.makedirs(WEIGHTS_DIR, exist_ok=True)\n",
        "\n",
        "# RESULTS_DIR.mkdir(parents=True, exist_ok=True)\n",
        "# WEIGHTS_DIR.mkdir(parents=True, exist_ok=True)\n"
      ],
      "metadata": {
        "id": "ZoCp_lZIiXsP"
      },
      "execution_count": null,
      "outputs": []
    },
    {
      "cell_type": "code",
      "source": [
        "num_epochs = 50       #\n",
        "generate(generator, valid_loader, f'results/img-0.png')\n",
        "\n",
        "num_epochs = 50\n",
        "generate(generator, valid_loader, str(RESULTS_DIR / 'img-0.png'))\n",
        "\n",
        "for epoch in range(num_epochs):\n",
        "  # Train\n",
        "  gen_loss, disc_loss = train_one_epoch(\n",
        "      generator, discriminator,\n",
        "      train_loader,\n",
        "      gen_loss_fn, disc_loss_fn,\n",
        "      gen_optimizer, disc_optimizer,\n",
        "      epoch+1)\n",
        "\n",
        "  # Validation\n",
        "  loss_valid = evaluate(\n",
        "      generator,\n",
        "      valid_loader,\n",
        "      nn.MSELoss())\n",
        "\n",
        "  generate(generator, valid_loader, str(RESULTS_DIR / f'img-{epoch+1}.png'))\n",
        "\n",
        "  loss_gen_hist.append(gen_loss)\n",
        "  loss_disc_hist.append(disc_loss)\n",
        "  loss_valid_hist.append(loss_valid)\n",
        "\n",
        "  if loss_valid < best_loss_valid:\n",
        "    torch.save(generator, str(WEIGHTS_DIR / 'generator-best.pt'))\n",
        "    best_loss_valid = loss_valid\n",
        "    print('Generator Saved!')\n",
        "\n",
        "  print(f'Valid: Loss = {loss_valid:.4}')\n",
        "  print()\n",
        "  epoch_counter += 1\n",
        "\n",
        "torch.save(generator, f'generator-last.pt')  #saving the last epoch"
      ],
      "metadata": {
        "id": "64IeLwGgQQuB",
        "colab": {
          "base_uri": "https://localhost:8080/"
        },
        "collapsed": true,
        "outputId": "66472ed6-e74c-49f4-b1a2-ac45c6747dae"
      },
      "execution_count": null,
      "outputs": [
        {
          "metadata": {
            "tags": null
          },
          "name": "stderr",
          "output_type": "stream",
          "text": [
            "Epoch 1: 100%|██████████| 25/25 [00:17<00:00,  1.47batch/s, lossD=1.36, lossG=37.8]\n"
          ]
        },
        {
          "metadata": {
            "tags": null
          },
          "name": "stdout",
          "output_type": "stream",
          "text": [
            "Generator Saved!\n",
            "Valid: Loss = 0.1117\n",
            "\n"
          ]
        },
        {
          "metadata": {
            "tags": null
          },
          "name": "stderr",
          "output_type": "stream",
          "text": [
            "Epoch 2: 100%|██████████| 25/25 [00:20<00:00,  1.24batch/s, lossD=1.17, lossG=15.8]\n"
          ]
        },
        {
          "metadata": {
            "tags": null
          },
          "name": "stdout",
          "output_type": "stream",
          "text": [
            "Generator Saved!\n",
            "Valid: Loss = 0.0652\n",
            "\n"
          ]
        },
        {
          "metadata": {
            "tags": null
          },
          "name": "stderr",
          "output_type": "stream",
          "text": [
            "Epoch 3: 100%|██████████| 25/25 [00:20<00:00,  1.24batch/s, lossD=1.21, lossG=11.8]\n"
          ]
        },
        {
          "metadata": {
            "tags": null
          },
          "name": "stdout",
          "output_type": "stream",
          "text": [
            "Generator Saved!\n",
            "Valid: Loss = 0.04816\n",
            "\n"
          ]
        },
        {
          "metadata": {
            "tags": null
          },
          "name": "stderr",
          "output_type": "stream",
          "text": [
            "Epoch 4: 100%|██████████| 25/25 [00:21<00:00,  1.17batch/s, lossD=1.24, lossG=9.78]\n"
          ]
        },
        {
          "metadata": {
            "tags": null
          },
          "name": "stdout",
          "output_type": "stream",
          "text": [
            "Generator Saved!\n",
            "Valid: Loss = 0.03543\n",
            "\n"
          ]
        },
        {
          "metadata": {
            "tags": null
          },
          "name": "stderr",
          "output_type": "stream",
          "text": [
            "Epoch 5: 100%|██████████| 25/25 [00:21<00:00,  1.17batch/s, lossD=1.21, lossG=8.72]\n"
          ]
        },
        {
          "metadata": {
            "tags": null
          },
          "name": "stdout",
          "output_type": "stream",
          "text": [
            "Generator Saved!\n",
            "Valid: Loss = 0.03435\n",
            "\n"
          ]
        },
        {
          "metadata": {
            "tags": null
          },
          "name": "stderr",
          "output_type": "stream",
          "text": [
            "Epoch 6: 100%|██████████| 25/25 [00:21<00:00,  1.17batch/s, lossD=1.28, lossG=7.39]\n"
          ]
        },
        {
          "metadata": {
            "tags": null
          },
          "name": "stdout",
          "output_type": "stream",
          "text": [
            "Generator Saved!\n",
            "Valid: Loss = 0.02982\n",
            "\n"
          ]
        },
        {
          "metadata": {
            "tags": null
          },
          "name": "stderr",
          "output_type": "stream",
          "text": [
            "Epoch 7: 100%|██████████| 25/25 [00:20<00:00,  1.20batch/s, lossD=1.32, lossG=7.01]\n"
          ]
        },
        {
          "metadata": {
            "tags": null
          },
          "name": "stdout",
          "output_type": "stream",
          "text": [
            "Valid: Loss = 0.03044\n",
            "\n"
          ]
        },
        {
          "metadata": {
            "tags": null
          },
          "name": "stderr",
          "output_type": "stream",
          "text": [
            "Epoch 8: 100%|██████████| 25/25 [00:16<00:00,  1.51batch/s, lossD=1.37, lossG=6.65]\n"
          ]
        },
        {
          "metadata": {
            "tags": null
          },
          "name": "stdout",
          "output_type": "stream",
          "text": [
            "Generator Saved!\n",
            "Valid: Loss = 0.02512\n",
            "\n"
          ]
        },
        {
          "metadata": {
            "tags": null
          },
          "name": "stderr",
          "output_type": "stream",
          "text": [
            "Epoch 9: 100%|██████████| 25/25 [00:20<00:00,  1.23batch/s, lossD=1.32, lossG=5.93]\n"
          ]
        },
        {
          "metadata": {
            "tags": null
          },
          "name": "stdout",
          "output_type": "stream",
          "text": [
            "Valid: Loss = 0.02846\n",
            "\n"
          ]
        },
        {
          "metadata": {
            "tags": null
          },
          "name": "stderr",
          "output_type": "stream",
          "text": [
            "Epoch 10: 100%|██████████| 25/25 [00:16<00:00,  1.53batch/s, lossD=1.35, lossG=5.86]\n"
          ]
        },
        {
          "metadata": {
            "tags": null
          },
          "name": "stdout",
          "output_type": "stream",
          "text": [
            "Valid: Loss = 0.02624\n",
            "\n"
          ]
        },
        {
          "metadata": {
            "tags": null
          },
          "name": "stderr",
          "output_type": "stream",
          "text": [
            "Epoch 11: 100%|██████████| 25/25 [00:16<00:00,  1.53batch/s, lossD=1.35, lossG=5.8]\n"
          ]
        },
        {
          "metadata": {
            "tags": null
          },
          "name": "stdout",
          "output_type": "stream",
          "text": [
            "Generator Saved!\n",
            "Valid: Loss = 0.02317\n",
            "\n"
          ]
        },
        {
          "metadata": {
            "tags": null
          },
          "name": "stderr",
          "output_type": "stream",
          "text": [
            "Epoch 12: 100%|██████████| 25/25 [00:20<00:00,  1.20batch/s, lossD=1.34, lossG=4.93]\n"
          ]
        },
        {
          "metadata": {
            "tags": null
          },
          "name": "stdout",
          "output_type": "stream",
          "text": [
            "Valid: Loss = 0.02322\n",
            "\n"
          ]
        },
        {
          "metadata": {
            "tags": null
          },
          "name": "stderr",
          "output_type": "stream",
          "text": [
            "Epoch 13: 100%|██████████| 25/25 [00:16<00:00,  1.52batch/s, lossD=1.27, lossG=5.33]\n"
          ]
        },
        {
          "metadata": {
            "tags": null
          },
          "name": "stdout",
          "output_type": "stream",
          "text": [
            "Valid: Loss = 0.02329\n",
            "\n"
          ]
        },
        {
          "metadata": {
            "tags": null
          },
          "name": "stderr",
          "output_type": "stream",
          "text": [
            "Epoch 14: 100%|██████████| 25/25 [00:16<00:00,  1.52batch/s, lossD=1.36, lossG=4.93]\n"
          ]
        },
        {
          "metadata": {
            "tags": null
          },
          "name": "stdout",
          "output_type": "stream",
          "text": [
            "Valid: Loss = 0.02667\n",
            "\n"
          ]
        },
        {
          "metadata": {
            "tags": null
          },
          "name": "stderr",
          "output_type": "stream",
          "text": [
            "Epoch 15: 100%|██████████| 25/25 [00:16<00:00,  1.53batch/s, lossD=1.35, lossG=4.53]\n"
          ]
        },
        {
          "metadata": {
            "tags": null
          },
          "name": "stdout",
          "output_type": "stream",
          "text": [
            "Valid: Loss = 0.02689\n",
            "\n"
          ]
        },
        {
          "metadata": {
            "tags": null
          },
          "name": "stderr",
          "output_type": "stream",
          "text": [
            "Epoch 16: 100%|██████████| 25/25 [00:16<00:00,  1.51batch/s, lossD=1.27, lossG=4.64]\n"
          ]
        },
        {
          "metadata": {
            "tags": null
          },
          "name": "stdout",
          "output_type": "stream",
          "text": [
            "Valid: Loss = 0.02364\n",
            "\n"
          ]
        },
        {
          "metadata": {
            "tags": null
          },
          "name": "stderr",
          "output_type": "stream",
          "text": [
            "Epoch 17: 100%|██████████| 25/25 [00:16<00:00,  1.52batch/s, lossD=1.34, lossG=4.59]\n"
          ]
        },
        {
          "metadata": {
            "tags": null
          },
          "name": "stdout",
          "output_type": "stream",
          "text": [
            "Valid: Loss = 0.02407\n",
            "\n"
          ]
        },
        {
          "metadata": {
            "tags": null
          },
          "name": "stderr",
          "output_type": "stream",
          "text": [
            "Epoch 18: 100%|██████████| 25/25 [00:16<00:00,  1.52batch/s, lossD=1.35, lossG=4.52]\n"
          ]
        },
        {
          "metadata": {
            "tags": null
          },
          "name": "stdout",
          "output_type": "stream",
          "text": [
            "Generator Saved!\n",
            "Valid: Loss = 0.02174\n",
            "\n"
          ]
        },
        {
          "metadata": {
            "tags": null
          },
          "name": "stderr",
          "output_type": "stream",
          "text": [
            "Epoch 19: 100%|██████████| 25/25 [00:21<00:00,  1.15batch/s, lossD=1.36, lossG=3.99]\n"
          ]
        },
        {
          "metadata": {
            "tags": null
          },
          "name": "stdout",
          "output_type": "stream",
          "text": [
            "Valid: Loss = 0.02327\n",
            "\n"
          ]
        },
        {
          "metadata": {
            "tags": null
          },
          "name": "stderr",
          "output_type": "stream",
          "text": [
            "Epoch 20: 100%|██████████| 25/25 [00:16<00:00,  1.52batch/s, lossD=1.29, lossG=4.33]\n"
          ]
        },
        {
          "metadata": {
            "tags": null
          },
          "name": "stdout",
          "output_type": "stream",
          "text": [
            "Generator Saved!\n",
            "Valid: Loss = 0.01911\n",
            "\n"
          ]
        },
        {
          "metadata": {
            "tags": null
          },
          "name": "stderr",
          "output_type": "stream",
          "text": [
            "Epoch 21: 100%|██████████| 25/25 [00:20<00:00,  1.19batch/s, lossD=1.35, lossG=3.84]\n"
          ]
        },
        {
          "metadata": {
            "tags": null
          },
          "name": "stdout",
          "output_type": "stream",
          "text": [
            "Valid: Loss = 0.02005\n",
            "\n"
          ]
        },
        {
          "metadata": {
            "tags": null
          },
          "name": "stderr",
          "output_type": "stream",
          "text": [
            "Epoch 22: 100%|██████████| 25/25 [00:16<00:00,  1.53batch/s, lossD=1.37, lossG=3.71]\n"
          ]
        },
        {
          "metadata": {
            "tags": null
          },
          "name": "stdout",
          "output_type": "stream",
          "text": [
            "Valid: Loss = 0.01943\n",
            "\n"
          ]
        },
        {
          "metadata": {
            "tags": null
          },
          "name": "stderr",
          "output_type": "stream",
          "text": [
            "Epoch 23: 100%|██████████| 25/25 [00:16<00:00,  1.50batch/s, lossD=1.34, lossG=3.6]\n"
          ]
        },
        {
          "metadata": {
            "tags": null
          },
          "name": "stdout",
          "output_type": "stream",
          "text": [
            "Valid: Loss = 0.02046\n",
            "\n"
          ]
        },
        {
          "metadata": {
            "tags": null
          },
          "name": "stderr",
          "output_type": "stream",
          "text": [
            "Epoch 24: 100%|██████████| 25/25 [00:16<00:00,  1.52batch/s, lossD=1.32, lossG=3.8]\n"
          ]
        },
        {
          "metadata": {
            "tags": null
          },
          "name": "stdout",
          "output_type": "stream",
          "text": [
            "Valid: Loss = 0.021\n",
            "\n"
          ]
        },
        {
          "metadata": {
            "tags": null
          },
          "name": "stderr",
          "output_type": "stream",
          "text": [
            "Epoch 25: 100%|██████████| 25/25 [00:16<00:00,  1.49batch/s, lossD=1.3, lossG=3.81]\n"
          ]
        },
        {
          "metadata": {
            "tags": null
          },
          "name": "stdout",
          "output_type": "stream",
          "text": [
            "Valid: Loss = 0.02087\n",
            "\n"
          ]
        },
        {
          "metadata": {
            "tags": null
          },
          "name": "stderr",
          "output_type": "stream",
          "text": [
            "Epoch 26: 100%|██████████| 25/25 [00:16<00:00,  1.54batch/s, lossD=1.33, lossG=3.78]\n"
          ]
        },
        {
          "metadata": {
            "tags": null
          },
          "name": "stdout",
          "output_type": "stream",
          "text": [
            "Valid: Loss = 0.02056\n",
            "\n"
          ]
        },
        {
          "metadata": {
            "tags": null
          },
          "name": "stderr",
          "output_type": "stream",
          "text": [
            "Epoch 27: 100%|██████████| 25/25 [00:16<00:00,  1.49batch/s, lossD=1.36, lossG=3.43]\n"
          ]
        },
        {
          "metadata": {
            "tags": null
          },
          "name": "stdout",
          "output_type": "stream",
          "text": [
            "Valid: Loss = 0.02066\n",
            "\n"
          ]
        },
        {
          "metadata": {
            "tags": null
          },
          "name": "stderr",
          "output_type": "stream",
          "text": [
            "Epoch 28: 100%|██████████| 25/25 [00:16<00:00,  1.53batch/s, lossD=1.31, lossG=3.44]\n"
          ]
        },
        {
          "metadata": {
            "tags": null
          },
          "name": "stdout",
          "output_type": "stream",
          "text": [
            "Valid: Loss = 0.01931\n",
            "\n"
          ]
        },
        {
          "metadata": {
            "tags": null
          },
          "name": "stderr",
          "output_type": "stream",
          "text": [
            "Epoch 29: 100%|██████████| 25/25 [00:17<00:00,  1.46batch/s, lossD=1.35, lossG=3.31]\n"
          ]
        },
        {
          "metadata": {
            "tags": null
          },
          "name": "stdout",
          "output_type": "stream",
          "text": [
            "Valid: Loss = 0.02004\n",
            "\n"
          ]
        },
        {
          "metadata": {
            "tags": null
          },
          "name": "stderr",
          "output_type": "stream",
          "text": [
            "Epoch 30: 100%|██████████| 25/25 [00:16<00:00,  1.53batch/s, lossD=1.28, lossG=3.34]\n"
          ]
        },
        {
          "output_type": "stream",
          "name": "stdout",
          "text": [
            "Valid: Loss = 0.02152\n",
            "\n"
          ]
        },
        {
          "output_type": "stream",
          "name": "stderr",
          "text": [
            "Epoch 31: 100%|██████████| 25/25 [00:16<00:00,  1.48batch/s, lossD=1.31, lossG=3.77]\n"
          ]
        },
        {
          "output_type": "stream",
          "name": "stdout",
          "text": [
            "Valid: Loss = 0.02454\n",
            "\n"
          ]
        },
        {
          "output_type": "stream",
          "name": "stderr",
          "text": [
            "Epoch 32: 100%|██████████| 25/25 [00:16<00:00,  1.52batch/s, lossD=1.29, lossG=3.84]\n"
          ]
        },
        {
          "output_type": "stream",
          "name": "stdout",
          "text": [
            "Valid: Loss = 0.01995\n",
            "\n"
          ]
        },
        {
          "output_type": "stream",
          "name": "stderr",
          "text": [
            "Epoch 33: 100%|██████████| 25/25 [00:16<00:00,  1.49batch/s, lossD=1.3, lossG=3.57]\n"
          ]
        },
        {
          "output_type": "stream",
          "name": "stdout",
          "text": [
            "Generator Saved!\n",
            "Valid: Loss = 0.01853\n",
            "\n"
          ]
        },
        {
          "output_type": "stream",
          "name": "stderr",
          "text": [
            "Epoch 34: 100%|██████████| 25/25 [00:20<00:00,  1.20batch/s, lossD=1.34, lossG=3.24]\n"
          ]
        },
        {
          "output_type": "stream",
          "name": "stdout",
          "text": [
            "Valid: Loss = 0.01932\n",
            "\n"
          ]
        },
        {
          "output_type": "stream",
          "name": "stderr",
          "text": [
            "Epoch 35: 100%|██████████| 25/25 [00:16<00:00,  1.54batch/s, lossD=1.33, lossG=3.08]\n"
          ]
        },
        {
          "output_type": "stream",
          "name": "stdout",
          "text": [
            "Valid: Loss = 0.01903\n",
            "\n"
          ]
        },
        {
          "output_type": "stream",
          "name": "stderr",
          "text": [
            "Epoch 36: 100%|██████████| 25/25 [00:16<00:00,  1.50batch/s, lossD=1.36, lossG=3.13]\n"
          ]
        },
        {
          "output_type": "stream",
          "name": "stdout",
          "text": [
            "Valid: Loss = 0.02012\n",
            "\n"
          ]
        },
        {
          "output_type": "stream",
          "name": "stderr",
          "text": [
            "Epoch 37: 100%|██████████| 25/25 [00:16<00:00,  1.53batch/s, lossD=1.34, lossG=3.02]\n"
          ]
        },
        {
          "output_type": "stream",
          "name": "stdout",
          "text": [
            "Generator Saved!\n",
            "Valid: Loss = 0.01798\n",
            "\n"
          ]
        },
        {
          "output_type": "stream",
          "name": "stderr",
          "text": [
            "Epoch 38: 100%|██████████| 25/25 [00:21<00:00,  1.18batch/s, lossD=1.32, lossG=3.01]\n"
          ]
        },
        {
          "output_type": "stream",
          "name": "stdout",
          "text": [
            "Valid: Loss = 0.01971\n",
            "\n"
          ]
        },
        {
          "output_type": "stream",
          "name": "stderr",
          "text": [
            "Epoch 39: 100%|██████████| 25/25 [00:16<00:00,  1.51batch/s, lossD=1.32, lossG=2.91]\n"
          ]
        },
        {
          "output_type": "stream",
          "name": "stdout",
          "text": [
            "Valid: Loss = 0.01851\n",
            "\n"
          ]
        },
        {
          "output_type": "stream",
          "name": "stderr",
          "text": [
            "Epoch 40: 100%|██████████| 25/25 [00:16<00:00,  1.52batch/s, lossD=1.45, lossG=2.76]\n"
          ]
        },
        {
          "output_type": "stream",
          "name": "stdout",
          "text": [
            "Valid: Loss = 0.01821\n",
            "\n"
          ]
        },
        {
          "output_type": "stream",
          "name": "stderr",
          "text": [
            "Epoch 41: 100%|██████████| 25/25 [00:16<00:00,  1.51batch/s, lossD=1.35, lossG=2.78]\n"
          ]
        },
        {
          "output_type": "stream",
          "name": "stdout",
          "text": [
            "Valid: Loss = 0.01911\n",
            "\n"
          ]
        },
        {
          "output_type": "stream",
          "name": "stderr",
          "text": [
            "Epoch 42: 100%|██████████| 25/25 [00:16<00:00,  1.49batch/s, lossD=1.37, lossG=2.79]\n"
          ]
        },
        {
          "output_type": "stream",
          "name": "stdout",
          "text": [
            "Generator Saved!\n",
            "Valid: Loss = 0.01735\n",
            "\n"
          ]
        },
        {
          "output_type": "stream",
          "name": "stderr",
          "text": [
            "Epoch 43: 100%|██████████| 25/25 [00:21<00:00,  1.17batch/s, lossD=1.36, lossG=2.73]\n"
          ]
        },
        {
          "output_type": "stream",
          "name": "stdout",
          "text": [
            "Valid: Loss = 0.01817\n",
            "\n"
          ]
        },
        {
          "output_type": "stream",
          "name": "stderr",
          "text": [
            "Epoch 44: 100%|██████████| 25/25 [00:16<00:00,  1.51batch/s, lossD=1.37, lossG=2.65]\n"
          ]
        },
        {
          "output_type": "stream",
          "name": "stdout",
          "text": [
            "Valid: Loss = 0.01816\n",
            "\n"
          ]
        },
        {
          "output_type": "stream",
          "name": "stderr",
          "text": [
            "Epoch 45: 100%|██████████| 25/25 [00:16<00:00,  1.53batch/s, lossD=1.36, lossG=2.66]\n"
          ]
        },
        {
          "output_type": "stream",
          "name": "stdout",
          "text": [
            "Valid: Loss = 0.01907\n",
            "\n"
          ]
        },
        {
          "output_type": "stream",
          "name": "stderr",
          "text": [
            "Epoch 46: 100%|██████████| 25/25 [00:16<00:00,  1.51batch/s, lossD=1.34, lossG=2.58]\n"
          ]
        },
        {
          "output_type": "stream",
          "name": "stdout",
          "text": [
            "Valid: Loss = 0.01741\n",
            "\n"
          ]
        },
        {
          "output_type": "stream",
          "name": "stderr",
          "text": [
            "Epoch 47: 100%|██████████| 25/25 [00:16<00:00,  1.55batch/s, lossD=1.36, lossG=2.55]\n"
          ]
        },
        {
          "output_type": "stream",
          "name": "stdout",
          "text": [
            "Valid: Loss = 0.01765\n",
            "\n"
          ]
        },
        {
          "output_type": "stream",
          "name": "stderr",
          "text": [
            "Epoch 48: 100%|██████████| 25/25 [00:16<00:00,  1.52batch/s, lossD=1.39, lossG=2.44]\n"
          ]
        },
        {
          "output_type": "stream",
          "name": "stdout",
          "text": [
            "Valid: Loss = 0.01868\n",
            "\n"
          ]
        },
        {
          "output_type": "stream",
          "name": "stderr",
          "text": [
            "Epoch 49: 100%|██████████| 25/25 [00:16<00:00,  1.54batch/s, lossD=1.39, lossG=2.37]\n"
          ]
        },
        {
          "output_type": "stream",
          "name": "stdout",
          "text": [
            "Valid: Loss = 0.01776\n",
            "\n"
          ]
        },
        {
          "output_type": "stream",
          "name": "stderr",
          "text": [
            "Epoch 50: 100%|██████████| 25/25 [00:16<00:00,  1.50batch/s, lossD=1.35, lossG=2.49]\n"
          ]
        },
        {
          "output_type": "stream",
          "name": "stdout",
          "text": [
            "Valid: Loss = 0.01757\n",
            "\n"
          ]
        }
      ]
    },
    {
      "cell_type": "code",
      "source": [
        "import torch\n",
        "import torch.serialization\n",
        "\n",
        "torch.serialization.add_safe_globals([Generator])\n",
        "\n",
        "path = WEIGHTS_DIR / 'generator-best.pt'\n",
        "best_g = torch.load(path, map_location=device, weights_only=False).eval()\n",
        "generate(best_g, valid_loader, RESULTS_DIR / 'img-best.png')\n"
      ],
      "metadata": {
        "id": "eYgIm6J0oR6l"
      },
      "execution_count": null,
      "outputs": []
    },
    {
      "cell_type": "code",
      "source": [
        "best_g = Generator(in_channels=13).to(device)   #\n",
        "sd = torch.load(WEIGHTS_DIR / 'generator-best.pth', map_location=device, weights_only=True)\n",
        "best_g.load_state_dict(sd, strict=True)\n",
        "best_g.eval()\n",
        "\n",
        "generate(best_g, valid_loader, RESULTS_DIR / 'img-best.png')"
      ],
      "metadata": {
        "id": "G-2Yq-SXorUQ"
      },
      "execution_count": null,
      "outputs": []
    },
    {
      "cell_type": "code",
      "source": [
        "import matplotlib.pyplot as plt\n",
        "\n",
        "plt.plot(loss_gen_hist, label='G')\n",
        "plt.plot(loss_disc_hist, label='D')\n",
        "plt.plot(loss_valid_hist, label='Valid MSE')\n",
        "plt.legend(); plt.xlabel('Epoch'); plt.ylabel('Loss'); plt.title('Training Curves')\n",
        "plt.show()"
      ],
      "metadata": {
        "colab": {
          "base_uri": "https://localhost:8080/",
          "height": 472
        },
        "id": "f0Fr7YoGj-1B",
        "outputId": "d0d8f663-4110-4f39-b541-9b5e04e817e4"
      },
      "execution_count": null,
      "outputs": [
        {
          "output_type": "display_data",
          "data": {
            "text/plain": [
              "<Figure size 640x480 with 1 Axes>"
            ],
            "image/png": "[encoded data removed]"
          },
          "metadata": {}
        }
      ]
    },
    {
      "cell_type": "code",
      "source": [
        "best_g = torch.load(WEIGHTS_DIR / 'generator-best.pt', map_location=device).eval()\n",
        "generate(best_g, valid_loader, RESULTS_DIR / 'img-best.png')\n"
      ],
      "metadata": {
        "colab": {
          "base_uri": "https://localhost:8080/",
          "height": 523
        },
        "collapsed": true,
        "id": "vkW6TX4PkA_k",
        "outputId": "2d94c8f6-4a56-44d2-b085-a35caee71a05"
      },
      "execution_count": null,
      "outputs": [
        {
          "output_type": "error",
          "ename": "UnpicklingError",
          "evalue": "Weights only load failed. This file can still be loaded, to do so you have two options, \u001b[1mdo those steps only if you trust the source of the checkpoint\u001b[0m. \n\t(1) In PyTorch 2.6, we changed the default value of the `weights_only` argument in `torch.load` from `False` to `True`. Re-running `torch.load` with `weights_only` set to `False` will likely succeed, but it can result in arbitrary code execution. Do it only if you got the file from a trusted source.\n\t(2) Alternatively, to load with `weights_only=True` please check the recommended steps in the following error message.\n\tWeightsUnpickler error: Unsupported global: GLOBAL torch.nn.modules.container.ModuleList was not an allowed global by default. Please use `torch.serialization.add_safe_globals([torch.nn.modules.container.ModuleList])` or the `torch.serialization.safe_globals([torch.nn.modules.container.ModuleList])` context manager to allowlist this global if you trust this class/function.\n\nCheck the documentation of torch.load to learn more about types accepted by default with weights_only https://pytorch.org/docs/stable/generated/torch.load.html.",
          "traceback": [
            "\u001b[0;31m---------------------------------------------------------------------------\u001b[0m",
            "\u001b[0;31mUnpicklingError\u001b[0m                           Traceback (most recent call last)",
            "\u001b[0;32m/tmp/ipython-input-4177062678.py\u001b[0m in \u001b[0;36m<cell line: 0>\u001b[0;34m()\u001b[0m\n\u001b[0;32m----> 1\u001b[0;31m \u001b[0mbest_g\u001b[0m \u001b[0;34m=\u001b[0m \u001b[0mtorch\u001b[0m\u001b[0;34m.\u001b[0m\u001b[0mload\u001b[0m\u001b[0;34m(\u001b[0m\u001b[0mWEIGHTS_DIR\u001b[0m \u001b[0;34m/\u001b[0m \u001b[0;34m'generator-best.pt'\u001b[0m\u001b[0;34m,\u001b[0m \u001b[0mmap_location\u001b[0m\u001b[0;34m=\u001b[0m\u001b[0mdevice\u001b[0m\u001b[0;34m)\u001b[0m\u001b[0;34m.\u001b[0m\u001b[0meval\u001b[0m\u001b[0;34m(\u001b[0m\u001b[0;34m)\u001b[0m\u001b[0;34m\u001b[0m\u001b[0;34m\u001b[0m\u001b[0m\n\u001b[0m\u001b[1;32m      2\u001b[0m \u001b[0mgenerate\u001b[0m\u001b[0;34m(\u001b[0m\u001b[0mbest_g\u001b[0m\u001b[0;34m,\u001b[0m \u001b[0mvalid_loader\u001b[0m\u001b[0;34m,\u001b[0m \u001b[0mRESULTS_DIR\u001b[0m \u001b[0;34m/\u001b[0m \u001b[0;34m'img-best.png'\u001b[0m\u001b[0;34m)\u001b[0m\u001b[0;34m\u001b[0m\u001b[0;34m\u001b[0m\u001b[0m\n",
            "\u001b[0;32m/usr/local/lib/python3.12/dist-packages/torch/serialization.py\u001b[0m in \u001b[0;36mload\u001b[0;34m(f, map_location, pickle_module, weights_only, mmap, **pickle_load_args)\u001b[0m\n\u001b[1;32m   1527\u001b[0m                         )\n\u001b[1;32m   1528\u001b[0m                     \u001b[0;32mexcept\u001b[0m \u001b[0mpickle\u001b[0m\u001b[0;34m.\u001b[0m\u001b[0mUnpicklingError\u001b[0m \u001b[0;32mas\u001b[0m \u001b[0me\u001b[0m\u001b[0;34m:\u001b[0m\u001b[0;34m\u001b[0m\u001b[0;34m\u001b[0m\u001b[0m\n\u001b[0;32m-> 1529\u001b[0;31m                         \u001b[0;32mraise\u001b[0m \u001b[0mpickle\u001b[0m\u001b[0;34m.\u001b[0m\u001b[0mUnpicklingError\u001b[0m\u001b[0;34m(\u001b[0m\u001b[0m_get_wo_message\u001b[0m\u001b[0;34m(\u001b[0m\u001b[0mstr\u001b[0m\u001b[0;34m(\u001b[0m\u001b[0me\u001b[0m\u001b[0;34m)\u001b[0m\u001b[0;34m)\u001b[0m\u001b[0;34m)\u001b[0m \u001b[0;32mfrom\u001b[0m \u001b[0;32mNone\u001b[0m\u001b[0;34m\u001b[0m\u001b[0;34m\u001b[0m\u001b[0m\n\u001b[0m\u001b[1;32m   1530\u001b[0m                 return _load(\n\u001b[1;32m   1531\u001b[0m                     \u001b[0mopened_zipfile\u001b[0m\u001b[0;34m,\u001b[0m\u001b[0;34m\u001b[0m\u001b[0;34m\u001b[0m\u001b[0m\n",
            "\u001b[0;31mUnpicklingError\u001b[0m: Weights only load failed. This file can still be loaded, to do so you have two options, \u001b[1mdo those steps only if you trust the source of the checkpoint\u001b[0m. \n\t(1) In PyTorch 2.6, we changed the default value of the `weights_only` argument in `torch.load` from `False` to `True`. Re-running `torch.load` with `weights_only` set to `False` will likely succeed, but it can result in arbitrary code execution. Do it only if you got the file from a trusted source.\n\t(2) Alternatively, to load with `weights_only=True` please check the recommended steps in the following error message.\n\tWeightsUnpickler error: Unsupported global: GLOBAL torch.nn.modules.container.ModuleList was not an allowed global by default. Please use `torch.serialization.add_safe_globals([torch.nn.modules.container.ModuleList])` or the `torch.serialization.safe_globals([torch.nn.modules.container.ModuleList])` context manager to allowlist this global if you trust this class/function.\n\nCheck the documentation of torch.load to learn more about types accepted by default with weights_only https://pytorch.org/docs/stable/generated/torch.load.html."
          ]
        }
      ]
    },
    {
      "cell_type": "markdown",
      "source": [
        "#Plot"
      ],
      "metadata": {
        "id": "CiqhmBYLQVEl"
      }
    },
    {
      "cell_type": "code",
      "source": [
        "plt.figure(figsize=(8, 6))\n",
        "\n",
        "plt.plot(range(epoch_counter), loss_gen_hist, 'r-', label='G')\n",
        "plt.plot(range(epoch_counter), loss_disc_hist, 'b-', label='D')\n",
        "\n",
        "plt.xlabel('Epoch')\n",
        "plt.ylabel('loss')\n",
        "plt.grid(True)\n",
        "plt.legend()"
      ],
      "metadata": {
        "id": "dXwpGQsvQWLm",
        "colab": {
          "base_uri": "https://localhost:8080/",
          "height": 559
        },
        "outputId": "980d3265-1e2c-4a8d-e1df-432c03ee3154"
      },
      "execution_count": null,
      "outputs": [
        {
          "output_type": "execute_result",
          "data": {
            "text/plain": [
              "<matplotlib.legend.Legend at 0x7a5a3d2f7aa0>"
            ]
          },
          "metadata": {},
          "execution_count": 65
        },
        {
          "output_type": "display_data",
          "data": {
            "text/plain": [
              "<Figure size 800x600 with 1 Axes>"
            ],
            "image/png": "[encoded data removed]"
          },
          "metadata": {}
        }
      ]
    },
    {
      "cell_type": "markdown",
      "source": [
        "#Generate"
      ],
      "metadata": {
        "id": "l9pfWm0bQayp"
      }
    },
    {
      "cell_type": "code",
      "source": [
        "import torch\n",
        "from pathlib import Path\n",
        "\n",
        "# device = 'cuda' if torch.cuda.is_available() else 'cpu'\n",
        "\n",
        "# # مسیر فایل وزن‌ها\n",
        "# weights_path = Path(\"/content/drive/MyDrive/processed/weights/generator-best.pt\")\n",
        "\n",
        "# # حتما قبلش class Generator تعریف شده باشه\n",
        "# generator = torch.load(weights_path, map_location=device)\n",
        "# generator.eval()\n",
        "# print(\"Model loaded and set to eval mode!\")\n"
      ],
      "metadata": {
        "colab": {
          "base_uri": "https://localhost:8080/",
          "height": 523
        },
        "id": "--HxRJCMIKwy",
        "outputId": "bcfb7087-d3d6-494e-8f6d-f6058b5a7193",
        "collapsed": true
      },
      "execution_count": null,
      "outputs": [
        {
          "output_type": "error",
          "ename": "UnpicklingError",
          "evalue": "Weights only load failed. This file can still be loaded, to do so you have two options, \u001b[1mdo those steps only if you trust the source of the checkpoint\u001b[0m. \n\t(1) In PyTorch 2.6, we changed the default value of the `weights_only` argument in `torch.load` from `False` to `True`. Re-running `torch.load` with `weights_only` set to `False` will likely succeed, but it can result in arbitrary code execution. Do it only if you got the file from a trusted source.\n\t(2) Alternatively, to load with `weights_only=True` please check the recommended steps in the following error message.\n\tWeightsUnpickler error: Unsupported global: GLOBAL torch.nn.modules.container.ModuleList was not an allowed global by default. Please use `torch.serialization.add_safe_globals([torch.nn.modules.container.ModuleList])` or the `torch.serialization.safe_globals([torch.nn.modules.container.ModuleList])` context manager to allowlist this global if you trust this class/function.\n\nCheck the documentation of torch.load to learn more about types accepted by default with weights_only https://pytorch.org/docs/stable/generated/torch.load.html.",
          "traceback": [
            "\u001b[0;31m---------------------------------------------------------------------------\u001b[0m",
            "\u001b[0;31mUnpicklingError\u001b[0m                           Traceback (most recent call last)",
            "\u001b[0;32m/tmp/ipython-input-1567333921.py\u001b[0m in \u001b[0;36m<cell line: 0>\u001b[0;34m()\u001b[0m\n\u001b[1;32m      8\u001b[0m \u001b[0;34m\u001b[0m\u001b[0m\n\u001b[1;32m      9\u001b[0m \u001b[0;31m# حتما قبلش class Generator تعریف شده باشه\u001b[0m\u001b[0;34m\u001b[0m\u001b[0;34m\u001b[0m\u001b[0m\n\u001b[0;32m---> 10\u001b[0;31m \u001b[0mgenerator\u001b[0m \u001b[0;34m=\u001b[0m \u001b[0mtorch\u001b[0m\u001b[0;34m.\u001b[0m\u001b[0mload\u001b[0m\u001b[0;34m(\u001b[0m\u001b[0mweights_path\u001b[0m\u001b[0;34m,\u001b[0m \u001b[0mmap_location\u001b[0m\u001b[0;34m=\u001b[0m\u001b[0mdevice\u001b[0m\u001b[0;34m)\u001b[0m\u001b[0;34m\u001b[0m\u001b[0;34m\u001b[0m\u001b[0m\n\u001b[0m\u001b[1;32m     11\u001b[0m \u001b[0mgenerator\u001b[0m\u001b[0;34m.\u001b[0m\u001b[0meval\u001b[0m\u001b[0;34m(\u001b[0m\u001b[0;34m)\u001b[0m\u001b[0;34m\u001b[0m\u001b[0;34m\u001b[0m\u001b[0m\n\u001b[1;32m     12\u001b[0m \u001b[0mprint\u001b[0m\u001b[0;34m(\u001b[0m\u001b[0;34m\"Model loaded and set to eval mode!\"\u001b[0m\u001b[0;34m)\u001b[0m\u001b[0;34m\u001b[0m\u001b[0;34m\u001b[0m\u001b[0m\n",
            "\u001b[0;32m/usr/local/lib/python3.12/dist-packages/torch/serialization.py\u001b[0m in \u001b[0;36mload\u001b[0;34m(f, map_location, pickle_module, weights_only, mmap, **pickle_load_args)\u001b[0m\n\u001b[1;32m   1527\u001b[0m                         )\n\u001b[1;32m   1528\u001b[0m                     \u001b[0;32mexcept\u001b[0m \u001b[0mpickle\u001b[0m\u001b[0;34m.\u001b[0m\u001b[0mUnpicklingError\u001b[0m \u001b[0;32mas\u001b[0m \u001b[0me\u001b[0m\u001b[0;34m:\u001b[0m\u001b[0;34m\u001b[0m\u001b[0;34m\u001b[0m\u001b[0m\n\u001b[0;32m-> 1529\u001b[0;31m                         \u001b[0;32mraise\u001b[0m \u001b[0mpickle\u001b[0m\u001b[0;34m.\u001b[0m\u001b[0mUnpicklingError\u001b[0m\u001b[0;34m(\u001b[0m\u001b[0m_get_wo_message\u001b[0m\u001b[0;34m(\u001b[0m\u001b[0mstr\u001b[0m\u001b[0;34m(\u001b[0m\u001b[0me\u001b[0m\u001b[0;34m)\u001b[0m\u001b[0;34m)\u001b[0m\u001b[0;34m)\u001b[0m \u001b[0;32mfrom\u001b[0m \u001b[0;32mNone\u001b[0m\u001b[0;34m\u001b[0m\u001b[0;34m\u001b[0m\u001b[0m\n\u001b[0m\u001b[1;32m   1530\u001b[0m                 return _load(\n\u001b[1;32m   1531\u001b[0m                     \u001b[0mopened_zipfile\u001b[0m\u001b[0;34m,\u001b[0m\u001b[0;34m\u001b[0m\u001b[0;34m\u001b[0m\u001b[0m\n",
            "\u001b[0;31mUnpicklingError\u001b[0m: Weights only load failed. This file can still be loaded, to do so you have two options, \u001b[1mdo those steps only if you trust the source of the checkpoint\u001b[0m. \n\t(1) In PyTorch 2.6, we changed the default value of the `weights_only` argument in `torch.load` from `False` to `True`. Re-running `torch.load` with `weights_only` set to `False` will likely succeed, but it can result in arbitrary code execution. Do it only if you got the file from a trusted source.\n\t(2) Alternatively, to load with `weights_only=True` please check the recommended steps in the following error message.\n\tWeightsUnpickler error: Unsupported global: GLOBAL torch.nn.modules.container.ModuleList was not an allowed global by default. Please use `torch.serialization.add_safe_globals([torch.nn.modules.container.ModuleList])` or the `torch.serialization.safe_globals([torch.nn.modules.container.ModuleList])` context manager to allowlist this global if you trust this class/function.\n\nCheck the documentation of torch.load to learn more about types accepted by default with weights_only https://pytorch.org/docs/stable/generated/torch.load.html."
          ]
        }
      ]
    },
    {
      "cell_type": "code",
      "source": [
        "import torch, torch.nn as nn\n",
        "import torch.serialization\n",
        "\n",
        "torch.serialization.add_safe_globals([\n",
        "    Generator, EncoderBlock, DecoderBlock,  #\n",
        "    nn.ModuleList, nn.Sequential            #\n",
        "])\n",
        "\n",
        "path = WEIGHTS_DIR / 'generator-best.pt'  # مسیر فایل .pt\n",
        "generator = torch.load(path, map_location=device, weights_only=False)\n",
        "generator.eval()\n",
        "print(\"Loaded OK.\")\n"
      ],
      "metadata": {
        "colab": {
          "base_uri": "https://localhost:8080/"
        },
        "id": "tPvg61r9I9ZM",
        "outputId": "aeb303c7-7f61-4f0d-a66c-b5242038bf15"
      },
      "execution_count": null,
      "outputs": [
        {
          "output_type": "stream",
          "name": "stdout",
          "text": [
            "Loaded OK.\n"
          ]
        }
      ]
    },
    {
      "cell_type": "code",
      "source": [
        "torch.save(generator.state_dict(), WEIGHTS_DIR / 'generator-best.pth')\n"
      ],
      "metadata": {
        "id": "U5yKhn5pJS9u"
      },
      "execution_count": null,
      "outputs": []
    },
    {
      "cell_type": "code",
      "source": [
        "best_g = Generator(in_channels=13).to(device)\n",
        "best_g.load_state_dict(torch.load(WEIGHTS_DIR/'generator-best.pth', map_location=device, weights_only=True))\n",
        "best_g.eval()\n"
      ],
      "metadata": {
        "colab": {
          "base_uri": "https://localhost:8080/"
        },
        "id": "osYBoyJZJXP6",
        "outputId": "6f09accd-5e96-4701-f966-2a8eff0a04d8"
      },
      "execution_count": null,
      "outputs": [
        {
          "output_type": "execute_result",
          "data": {
            "text/plain": [
              "Generator(\n",
              "  (encoders): ModuleList(\n",
              "    (0): EncoderBlock(\n",
              "      (conv): Conv2d(13, 64, kernel_size=(4, 4), stride=(2, 2), padding=(1, 1), bias=False)\n",
              "      (af): LeakyReLU(negative_slope=0.2, inplace=True)\n",
              "    )\n",
              "    (1): EncoderBlock(\n",
              "      (conv): Conv2d(64, 128, kernel_size=(4, 4), stride=(2, 2), padding=(1, 1), bias=False)\n",
              "      (bn): BatchNorm2d(128, eps=1e-05, momentum=0.1, affine=True, track_running_stats=True)\n",
              "      (af): LeakyReLU(negative_slope=0.2, inplace=True)\n",
              "    )\n",
              "    (2): EncoderBlock(\n",
              "      (conv): Conv2d(128, 256, kernel_size=(4, 4), stride=(2, 2), padding=(1, 1), bias=False)\n",
              "      (bn): BatchNorm2d(256, eps=1e-05, momentum=0.1, affine=True, track_running_stats=True)\n",
              "      (af): LeakyReLU(negative_slope=0.2, inplace=True)\n",
              "    )\n",
              "    (3): EncoderBlock(\n",
              "      (conv): Conv2d(256, 512, kernel_size=(4, 4), stride=(2, 2), padding=(1, 1), bias=False)\n",
              "      (bn): BatchNorm2d(512, eps=1e-05, momentum=0.1, affine=True, track_running_stats=True)\n",
              "      (af): LeakyReLU(negative_slope=0.2, inplace=True)\n",
              "    )\n",
              "    (4-7): 4 x EncoderBlock(\n",
              "      (conv): Conv2d(512, 512, kernel_size=(4, 4), stride=(2, 2), padding=(1, 1), bias=False)\n",
              "      (bn): BatchNorm2d(512, eps=1e-05, momentum=0.1, affine=True, track_running_stats=True)\n",
              "      (af): LeakyReLU(negative_slope=0.2, inplace=True)\n",
              "    )\n",
              "  )\n",
              "  (decoders): ModuleList(\n",
              "    (0): DecoderBlock(\n",
              "      (tconv): ConvTranspose2d(512, 512, kernel_size=(4, 4), stride=(2, 2), padding=(1, 1), bias=False)\n",
              "      (bn): BatchNorm2d(512, eps=1e-05, momentum=0.1, affine=True, track_running_stats=True)\n",
              "      (dropout): Dropout(p=0.5, inplace=False)\n",
              "      (af): ReLU()\n",
              "    )\n",
              "    (1-2): 2 x DecoderBlock(\n",
              "      (tconv): ConvTranspose2d(1024, 512, kernel_size=(4, 4), stride=(2, 2), padding=(1, 1), bias=False)\n",
              "      (bn): BatchNorm2d(512, eps=1e-05, momentum=0.1, affine=True, track_running_stats=True)\n",
              "      (dropout): Dropout(p=0.5, inplace=False)\n",
              "      (af): ReLU()\n",
              "    )\n",
              "    (3): DecoderBlock(\n",
              "      (tconv): ConvTranspose2d(1024, 512, kernel_size=(4, 4), stride=(2, 2), padding=(1, 1), bias=False)\n",
              "      (bn): BatchNorm2d(512, eps=1e-05, momentum=0.1, affine=True, track_running_stats=True)\n",
              "      (af): ReLU()\n",
              "    )\n",
              "    (4): DecoderBlock(\n",
              "      (tconv): ConvTranspose2d(1024, 256, kernel_size=(4, 4), stride=(2, 2), padding=(1, 1), bias=False)\n",
              "      (bn): BatchNorm2d(256, eps=1e-05, momentum=0.1, affine=True, track_running_stats=True)\n",
              "      (af): ReLU()\n",
              "    )\n",
              "    (5): DecoderBlock(\n",
              "      (tconv): ConvTranspose2d(512, 128, kernel_size=(4, 4), stride=(2, 2), padding=(1, 1), bias=False)\n",
              "      (bn): BatchNorm2d(128, eps=1e-05, momentum=0.1, affine=True, track_running_stats=True)\n",
              "      (af): ReLU()\n",
              "    )\n",
              "    (6): DecoderBlock(\n",
              "      (tconv): ConvTranspose2d(256, 64, kernel_size=(4, 4), stride=(2, 2), padding=(1, 1), bias=False)\n",
              "      (bn): BatchNorm2d(64, eps=1e-05, momentum=0.1, affine=True, track_running_stats=True)\n",
              "      (af): ReLU()\n",
              "    )\n",
              "  )\n",
              "  (last): ConvTranspose2d(128, 3, kernel_size=(4, 4), stride=(2, 2), padding=(1, 1))\n",
              "  (tanh): Tanh()\n",
              ")"
            ]
          },
          "metadata": {},
          "execution_count": 72
        }
      ]
    },
    {
      "cell_type": "code",
      "source": [
        "import pandas as pd\n",
        "from pathlib import Path\n",
        "\n",
        "ROOT = Path(\"/content/drive/MyDrive/processed\")\n",
        "csv_path = ROOT / 'train' / 'metadata.csv'\n",
        "df = pd.read_csv(csv_path)\n",
        "\n",
        "hair_vals  = sorted(set(str(x).strip() for x in df['hair']))\n",
        "shirt_vals = sorted(set(str(x).strip() for x in df['shirt']))\n",
        "print(\"hair:\", hair_vals)\n",
        "print(\"shirt:\", shirt_vals)\n"
      ],
      "metadata": {
        "colab": {
          "base_uri": "https://localhost:8080/"
        },
        "id": "78_xj5SvLAAf",
        "outputId": "5bc10809-0e8c-43f4-eb8e-b2e76948fa64"
      },
      "execution_count": null,
      "outputs": [
        {
          "output_type": "stream",
          "name": "stdout",
          "text": [
            "hair: ['blue', 'brown', 'green', 'red', 'yellow']\n",
            "shirt: ['blue', 'brown', 'green', 'red', 'yellow']\n"
          ]
        }
      ]
    },
    {
      "cell_type": "code",
      "source": [
        "def make_condition(hair, shirt, device):\n",
        "    C = len(stoi)                 # 5\n",
        "    eye = torch.eye(C, device=device)\n",
        "    one_hair  = eye[stoi[hair]]   # (C,)\n",
        "    one_shirt = eye[stoi[shirt]]  # (C,)\n",
        "    cond = torch.cat([one_hair, one_shirt], dim=0)  #\n",
        "    return cond.view(1, 2*C, 1, 1)                  #\n"
      ],
      "metadata": {
        "id": "ODToO4KcMuUD"
      },
      "execution_count": null,
      "outputs": []
    },
    {
      "cell_type": "code",
      "source": [
        "img_path = ROOT / 'test' / 'inputs' / '0001.bmp'\n",
        "x = transform_valid(Image.open(img_path).convert('RGB')).unsqueeze(0).to(device)\n",
        "\n",
        "# یکی از رنگ‌های مجاز: ['blue','brown','green','red','yellow']\n",
        "c = make_condition('brown', 'blue', device)  # -> (1,10,1,1)\n",
        "\n",
        "with torch.inference_mode():\n",
        "    y = generator(x, c)   #\n",
        "\n",
        "y = denorm_0_255(y.squeeze(0).cpu())\n",
        "io.write_png(y, str(ROOT / 'results' / 'pred-0001.png'))\n",
        "print(\"Saved:\", ROOT / 'results' / 'pred-0001.png')\n"
      ],
      "metadata": {
        "colab": {
          "base_uri": "https://localhost:8080/"
        },
        "id": "VfBUjRMAMwFT",
        "outputId": "b568a814-1867-4292-8bc3-5909f640ea2b"
      },
      "execution_count": null,
      "outputs": [
        {
          "output_type": "stream",
          "name": "stdout",
          "text": [
            "Saved: /content/drive/MyDrive/processed/results/pred-0001.png\n"
          ]
        }
      ]
    },
    {
      "cell_type": "code",
      "source": [
        "from pathlib import Path\n",
        "from PIL import Image\n",
        "import torchvision.transforms.v2 as v2\n",
        "import torchvision.io as io\n",
        "import pandas as pd\n",
        "import torch\n",
        "import os\n",
        "\n",
        "device = 'cuda' if torch.cuda.is_available() else 'cpu'\n",
        "\n",
        "ROOT = Path(\"/content/drive/MyDrive/processed\")\n",
        "\n",
        "(ROOT / \"results\").mkdir(parents=True, exist_ok=True)\n",
        "\n",
        "transform_valid = v2.Compose([\n",
        "    v2.Resize((256, 256), antialias=True),\n",
        "    v2.ToImage(),                             #\n",
        "    v2.ToDtype(torch.float32, scale=True),\n",
        "    v2.Normalize(mean=(0.5,0.5,0.5), std=(0.5,0.5,0.5)),\n",
        "])\n",
        "\n",
        "csv_path = ROOT / 'train' / 'metadata.csv'\n",
        "df = pd.read_csv(csv_path)\n",
        "tokens = (df['hair'].astype(str).tolist() + df['shirt'].astype(str).tolist())\n",
        "stoi = {t:i for i,t in enumerate(sorted(set(tokens)))}\n",
        "# مثلا: ['blue','brown','green','red','yellow']  => len(stoi)=5\n",
        "\n",
        "def make_condition(hair: str, shirt: str, device='cpu'):\n",
        "    C = len(stoi)                  # 5\n",
        "    eye = torch.eye(C, device=device)\n",
        "    one_hair  = eye[stoi[hair]]    # (C,)\n",
        "    one_shirt = eye[stoi[shirt]]   # (C,)\n",
        "    cond = torch.cat([one_hair, one_shirt], dim=0)  #\n",
        "    return cond.view(1, 2*C, 1, 1)                  #\n",
        "\n",
        "def denorm_0_255(t: torch.Tensor):\n",
        "    t = (0.5*t + 0.5).clamp(0,1)\n",
        "    return (t*255).to(torch.uint8)\n",
        "\n",
        "img_path = ROOT / 'test' / 'inputs' / '0001.bmp'\n",
        "x = transform_valid(Image.open(img_path).convert('RGB')).unsqueeze(0).to(device)  #\n",
        "\n",
        "c = make_condition('brown', 'blue', device)\n",
        "\n",
        "print(\"x.shape:\", x.shape, \"c.shape:\", c.shape)\n",
        "\n",
        "generator.eval()  #\n",
        "with torch.inference_mode():\n",
        "    y = generator(x, c)\n",
        "\n",
        "y = denorm_0_255(y.squeeze(0).cpu())\n",
        "out_path = ROOT / 'results' / 'pred-0001_2.png'\n",
        "io.write_png(y, str(out_path))\n",
        "print(\"Saved:\", out_path)\n"
      ],
      "metadata": {
        "colab": {
          "base_uri": "https://localhost:8080/"
        },
        "id": "2KgZriIiN2Jh",
        "outputId": "9d00f978-78de-4474-af2e-3f7eebed83cd"
      },
      "execution_count": null,
      "outputs": [
        {
          "output_type": "stream",
          "name": "stdout",
          "text": [
            "x.shape: torch.Size([1, 3, 256, 256]) c.shape: torch.Size([1, 10, 1, 1])\n",
            "Saved: /content/drive/MyDrive/processed/results/pred-0001_2.png\n"
          ]
        }
      ]
    },
    {
      "cell_type": "code",
      "source": [
        "plt.imshow(y.permute(1, 2, 0).numpy())\n",
        "plt.axis(\"off\")\n",
        "plt.title(\"Generated Output\")\n",
        "plt.show()"
      ],
      "metadata": {
        "colab": {
          "base_uri": "https://localhost:8080/",
          "height": 428
        },
        "id": "rLuCoFgjOLHy",
        "outputId": "e01d791b-5598-4a63-b7ea-d427aeeaf8a4"
      },
      "execution_count": null,
      "outputs": [
        {
          "output_type": "display_data",
          "data": {
            "text/plain": [
              "<Figure size 640x480 with 1 Axes>"
            ],
            "image/png": "[encoded data removed]"
          },
          "metadata": {}
        }
      ]
    },
    {
      "cell_type": "code",
      "source": [
        "orig = Image.open(img_path).convert('RGB')\n",
        "\n",
        "fig, axes = plt.subplots(1, 2, figsize=(8,4))\n",
        "\n",
        "axes[0].imshow(orig)\n",
        "axes[0].axis(\"off\")\n",
        "axes[0].set_title(\"Input Image\")\n",
        "\n",
        "axes[1].imshow(y.permute(1, 2, 0).numpy())\n",
        "axes[1].axis(\"off\")\n",
        "axes[1].set_title(\"Generated Output\")\n",
        "\n",
        "plt.tight_layout()\n",
        "plt.show()\n"
      ],
      "metadata": {
        "colab": {
          "base_uri": "https://localhost:8080/",
          "height": 420
        },
        "id": "geQzqQ36OYCu",
        "outputId": "675a74b4-bccb-4b13-8f7b-048da19197b7"
      },
      "execution_count": null,
      "outputs": [
        {
          "output_type": "display_data",
          "data": {
            "text/plain": [
              "<Figure size 800x400 with 2 Axes>"
            ],
            "image/png": "[encoded data removed]"
          },
          "metadata": {}
        }
      ]
    }
  ]
}